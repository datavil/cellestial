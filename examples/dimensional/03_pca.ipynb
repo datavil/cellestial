{
 "cells": [
  {
   "cell_type": "markdown",
   "metadata": {},
   "source": [
    "---\n",
    "title: PCA\n",
    "format:\n",
    "    html:\n",
    "        code-fold: false\n",
    "---"
   ]
  }
 ],
 "metadata": {
  "language_info": {
   "name": "python"
  }
 },
 "nbformat": 4,
 "nbformat_minor": 2
}
