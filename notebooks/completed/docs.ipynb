{
 "cells": [
  {
   "cell_type": "code",
   "execution_count": null,
   "metadata": {},
   "outputs": [],
   "source": [
    "import cellestial as cl\n",
    "from lets_plot import gggrid"
   ]
  },
  {
   "cell_type": "code",
   "execution_count": null,
   "metadata": {},
   "outputs": [],
   "source": [
    "print(cl.umap.__doc__  + gggrid.__doc__)"
   ]
  },
  {
   "cell_type": "code",
   "execution_count": null,
   "metadata": {},
   "outputs": [],
   "source": [
    "print(cl.umaps.__doc__)"
   ]
  },
  {
   "cell_type": "code",
   "execution_count": null,
   "metadata": {},
   "outputs": [],
   "source": [
    "print(cl.umap.__doc__)"
   ]
  },
  {
   "cell_type": "code",
   "execution_count": null,
   "metadata": {},
   "outputs": [],
   "source": [
    "cl.umap.__doc__"
   ]
  },
  {
   "cell_type": "markdown",
   "metadata": {},
   "source": [
    "# logic\n",
    "\n",
    "1. get the doc into a list\n",
    "2. first line should start with '    {param}' 4 spaces and {param       }\n",
    "3. remove the lines until the next line starts with '    ' 4 spaces and a character"
   ]
  },
  {
   "cell_type": "code",
   "execution_count": null,
   "metadata": {},
   "outputs": [],
   "source": [
    "to_remove = 'xy'\n",
    "func = cl.umap"
   ]
  },
  {
   "cell_type": "code",
   "execution_count": null,
   "metadata": {},
   "outputs": [],
   "source": [
    "func.__doc__.splitlines()"
   ]
  },
  {
   "cell_type": "code",
   "execution_count": null,
   "metadata": {},
   "outputs": [],
   "source": [
    "lines = func.__doc__.splitlines()"
   ]
  },
  {
   "cell_type": "code",
   "execution_count": null,
   "metadata": {},
   "outputs": [],
   "source": [
    "index_to_remove = [i for i,line in enumerate(lines) if line.startswith(f\"    {to_remove}\")][0]"
   ]
  },
  {
   "cell_type": "code",
   "execution_count": null,
   "metadata": {},
   "outputs": [],
   "source": [
    "index_all = [i for i,line in enumerate(lines) if line.startswith(\"    \") and not line.startswith(\"        \")]\n",
    "index_all"
   ]
  },
  {
   "cell_type": "code",
   "execution_count": null,
   "metadata": {},
   "outputs": [],
   "source": [
    "next_at = index_all.index(index_to_remove) + 1"
   ]
  },
  {
   "cell_type": "code",
   "execution_count": null,
   "metadata": {},
   "outputs": [],
   "source": [
    "index_next = index_all[next_at]"
   ]
  },
  {
   "cell_type": "code",
   "execution_count": null,
   "metadata": {},
   "outputs": [],
   "source": [
    "index_next"
   ]
  },
  {
   "cell_type": "code",
   "execution_count": null,
   "metadata": {},
   "outputs": [],
   "source": [
    "new_lines = [line for i,line in enumerate(lines) if i not in range(index_to_remove,index_next)]"
   ]
  },
  {
   "cell_type": "code",
   "execution_count": null,
   "metadata": {},
   "outputs": [],
   "source": [
    "new_doc = '\\n'.join(new_lines)\n",
    "print(new_doc)"
   ]
  },
  {
   "cell_type": "code",
   "execution_count": 66,
   "metadata": {},
   "outputs": [],
   "source": [
    "def _remove_docstring_param(func, to_remove:str)-> str:\n",
    "    # get the lines of the docstring into a list\n",
    "    lines = func.__doc__.splitlines()\n",
    "    # find the index of the parameter to remove\n",
    "    index_to_remove = [i for i,line in enumerate(lines) if line.startswith(f\"    {to_remove}\")][0]\n",
    "    # find the index of all possible parameters\n",
    "    index_all = [i for i,line in enumerate(lines) if line.startswith(\"    \") and not line.startswith(\"        \")]\n",
    "    # find the index of the next parameter\n",
    "    next_at = index_all.index(index_to_remove) + 1\n",
    "    index_next = index_all[next_at]\n",
    "    # remove the lines between the parameter to remove and the next parameter from the list\n",
    "    new_lines = [line for i,line in enumerate(lines) if i not in range(index_to_remove,index_next)]\n",
    "    # convert the list back to a string and return it\n",
    "    new_doc = '\\n'.join(new_lines)\n",
    "    return new_doc"
   ]
  },
  {
   "cell_type": "code",
   "execution_count": 68,
   "metadata": {},
   "outputs": [
    {
     "name": "stdout",
     "output_type": "stream",
     "text": [
      "\n",
      "    Dimensionality reduction plot.\n",
      "\n",
      "    Parameters\n",
      "    ----------\n",
      "    data : AnnData\n",
      "        The AnnData object of the single cell data.\n",
      "    key : str, default=None\n",
      "        The key (cell feature) to color the points by.\n",
      "        e.g., 'leiden' or 'louvain' to color by clusters or gene name for expression.\n",
      "    xy : tuple[int, int], default=(1, 2)\n",
      "        The x and y axes to use for the plot.\n",
      "        e.g., (1, 2) for UMAP1 and UMAP2.\n",
      "    use_key : str, default=None\n",
      "        The specific key to use for the desired dimensions.\n",
      "        e.g., 'X_umap_2d' or 'X_pca_2d'.\n",
      "        Otherwise, the function will decide on the key based on the dimensions.\n",
      "    size : float, default=0.8\n",
      "        The size of the points.\n",
      "    interactive : bool, default=False\n",
      "        Whether to make the plot interactive.\n",
      "    cluster_name : str, default='Cluster'\n",
      "        The name to overwrite the clustering key in the dataframe and the plot.\n",
      "    barcode_name : str, default='Barcode'\n",
      "        The name to give to barcode (or index) column in the dataframe.\n",
      "    color_low : str, default='#e6e6e6'\n",
      "        The color to use for the low end of the color gradient.\n",
      "        - Accepts:\n",
      "            - hex code e.g. '#f1f1f1'\n",
      "            - color name (of a limited set of colors).\n",
      "            - RGB/RGBA e.g. 'rgb(0, 0, 255)', 'rgba(0, 0, 255, 0.5)'.\n",
      "        - Applies to continuous (non-categorical) data.\n",
      "\n",
      "    color_mid : str, default=None\n",
      "        The color to use for the middle part of the color gradient.\n",
      "        - Accepts:\n",
      "            - hex code e.g. '#f1f1f1'\n",
      "            - color name (of a limited set of colors).\n",
      "            - RGB/RGBA e.g. 'rgb(0, 0, 255)', 'rgba(0, 0, 255, 0.5)'.\n",
      "        - Applies to continuous (non-categorical) data.\n",
      "\n",
      "    color_high : str, default='#377EB8'\n",
      "        The color to use for the high end of the color gradient.\n",
      "        - Accepts:\n",
      "            - hex code e.g. '#f1f1f1'\n",
      "            - color name (of a limited set of colors).\n",
      "            - RGB/RGBA e.g. 'rgb(0, 0, 255)', 'rgba(0, 0, 255, 0.5)'.\n",
      "        - Applies to continuous (non-categorical) data.\n",
      "\n",
      "    mid_point : Literal[\"mean\", \"median\", \"mid\"] | float, default=\"median\"\n",
      "        The midpoint (in data value) of the color gradient.\n",
      "        Can be 'mean', 'median' and 'mid' or a number (float or int).\n",
      "        - If 'mean', the midpoint is the mean of the data.\n",
      "        - If 'median', the midpoint is the median of the data.\n",
      "        - If 'mid', the midpoint is the mean of 'min' and 'max' of the data.\n",
      "\n",
      "    axis_type : Literal[\"axis\", \"arrow\"] | None\n",
      "        Whether to use regular axis or arrows as the axis.\n",
      "    arrow_length : float, default=0.25\n",
      "        Length of the arrow head (px).\n",
      "    arrow_size : float, default=1\n",
      "        Size of the arrow.\n",
      "    arrow_color : str, default='#3f3f3f'\n",
      "        Color of the arrows.\n",
      "        - Accepts:\n",
      "            - hex code e.g. '#f1f1f1'\n",
      "            - color name (of a limited set of colors).\n",
      "            - RGB/RGBA e.g. 'rgb(0, 0, 255)', 'rgba(0, 0, 255, 0.5)'.\n",
      "        - Applies to continuous (non-categorical) data.\n",
      "\n",
      "    arrow_angle : float, default=10\n",
      "        Angle of the arrow head in degrees.\n",
      "    show_tooltips : bool, default=True\n",
      "        Whether to show tooltips.\n",
      "    add_tooltips : list[str] | tuple[str] | Iterable[str] | None, default=None\n",
      "        Additional tooltips, will be appended to the base_tooltips.\n",
      "    custom_tooltips : list[str] | tuple[str] | Iterable[str] | None, default=None\n",
      "        Custom tooltips, will overwrite the base_tooltips.\n",
      "    tooltips_title : str | None, default=None\n",
      "        Title for the tooltips.\n",
      "    legend_ondata: bool, default=False\n",
      "        whether to show legend on data\n",
      "    ondata_size: float, default=12\n",
      "        size of the legend (text) on data.\n",
      "    ondata_color: str, default='#3f3f3f'\n",
      "        color of the legend (text) on data\n",
      "    ondata_fontface: str, default='bold'\n",
      "        fontface of the legend (text) on data.\n",
      "        https://lets-plot.org/python/pages/aesthetics.html#font-face\n",
      "    ondata_family: str, default='sans'\n",
      "        family of the legend (text) on data.\n",
      "        https://lets-plot.org/python/pages/aesthetics.html#font-family\n",
      "    ondata_alpha: float, default=1\n",
      "        alpha (transparency) of the legend on data.\n",
      "    ondata_weighted: bool, default=True\n",
      "        whether to use weighted mean for the legend on data.\n",
      "        If True, the weighted mean of the group means is used.\n",
      "        If False, the arithmetic mean of the group means is used.\n",
      "    **point_kwargs : dict[str, Any]\n",
      "        Additional parameters for the `geom_point` layer.\n",
      "        For more information on geom_point parameters, see:\n",
      "        https://lets-plot.org/python/pages/api/lets_plot.geom_point.html\n",
      "\n",
      "    Returns\n",
      "    -------\n",
      "    PlotSpec\n",
      "        Dimensional reduction plot.\n",
      "\n",
      "    \n"
     ]
    }
   ],
   "source": [
    "print(_remove_docstring_param(cl.dimensional, 'dimensions'))"
   ]
  }
 ],
 "metadata": {
  "kernelspec": {
   "display_name": "cellestial-QESvkR8L-py3.12",
   "language": "python",
   "name": "python3"
  },
  "language_info": {
   "codemirror_mode": {
    "name": "ipython",
    "version": 3
   },
   "file_extension": ".py",
   "mimetype": "text/x-python",
   "name": "python",
   "nbconvert_exporter": "python",
   "pygments_lexer": "ipython3",
   "version": "3.12.8"
  }
 },
 "nbformat": 4,
 "nbformat_minor": 2
}
