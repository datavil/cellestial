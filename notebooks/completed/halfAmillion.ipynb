{
 "cells": [
  {
   "cell_type": "code",
   "execution_count": null,
   "metadata": {},
   "outputs": [],
   "source": [
    "import scanpy as sc\n",
    "from lets_plot import *\n",
    "\n",
    "import cellestial as cl\n",
    "\n",
    "LetsPlot.setup_html()\n",
    "\n",
    "data = sc.read(\"data/blood.h5ad\")"
   ]
  },
  {
   "cell_type": "code",
   "execution_count": null,
   "metadata": {},
   "outputs": [],
   "source": [
    "type(data.obsm)"
   ]
  },
  {
   "cell_type": "code",
   "execution_count": null,
   "metadata": {},
   "outputs": [],
   "source": [
    "data.obsm[\"X_umap\"] = data.obsm[\"X_mc_umap\"]"
   ]
  },
  {
   "cell_type": "code",
   "execution_count": null,
   "metadata": {},
   "outputs": [],
   "source": [
    "for d in data.obsm:\n",
    "    print(d)"
   ]
  },
  {
   "cell_type": "code",
   "execution_count": null,
   "metadata": {},
   "outputs": [],
   "source": [
    "data.obs"
   ]
  },
  {
   "cell_type": "code",
   "execution_count": null,
   "metadata": {},
   "outputs": [],
   "source": [
    "plot = (\n",
    "    cl.umap(\n",
    "        data,\n",
    "        \"cell state\",\n",
    "        size=0.6,\n",
    "        legend_ondata=True,\n",
    "        add_tooltips=[\"sex\", \"scRNA sample blood draw date\"],\n",
    "        sampling=\"none\",\n",
    "    )\n",
    "    + ggsize(1200, 800)\n",
    "    + scale_color_hue()\n",
    ")\n",
    "plot"
   ]
  },
  {
   "cell_type": "code",
   "execution_count": null,
   "metadata": {},
   "outputs": [],
   "source": [
    "plot.to_html(\"halfAmillion.html\")"
   ]
  },
  {
   "cell_type": "code",
   "execution_count": null,
   "metadata": {},
   "outputs": [],
   "source": [
    "plot2 = (\n",
    "    cl.umap(\n",
    "        data,\n",
    "        \"cell state\",\n",
    "        size=0.6,\n",
    "        legend_ondata=True,\n",
    "        sampling=\"none\",\n",
    "    )\n",
    "    + ggsize(1200, 800)\n",
    "    + scale_color_hue()\n",
    ")\n",
    "plot2.to_html(\"halfAmillion_less_tooltips.html\")"
   ]
  },
  {
   "cell_type": "code",
   "execution_count": null,
   "metadata": {},
   "outputs": [],
   "source": [
    "plot2 = (\n",
    "    cl.umap(\n",
    "        data,\n",
    "        \"cell state\",\n",
    "        size=0.6,\n",
    "        legend_ondata=True,\n",
    "        sampling='none',\n",
    "    )\n",
    "    + ggsize(1200, 800)\n",
    "    + scale_color_hue()\n",
    ")\n",
    "plot2.to_svg(\"halfAmillion.svg\")"
   ]
  },
  {
   "cell_type": "code",
   "execution_count": null,
   "metadata": {},
   "outputs": [],
   "source": []
  }
 ],
 "metadata": {
  "kernelspec": {
   "display_name": "cellestial-QESvkR8L-py3.12",
   "language": "python",
   "name": "python3"
  },
  "language_info": {
   "codemirror_mode": {
    "name": "ipython",
    "version": 3
   },
   "file_extension": ".py",
   "mimetype": "text/x-python",
   "name": "python",
   "nbconvert_exporter": "python",
   "pygments_lexer": "ipython3",
   "version": "3.12.8"
  }
 },
 "nbformat": 4,
 "nbformat_minor": 2
}
