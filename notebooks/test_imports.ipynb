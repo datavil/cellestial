{
 "cells": [
  {
   "cell_type": "code",
   "execution_count": 1,
   "metadata": {},
   "outputs": [
    {
     "name": "stdout",
     "output_type": "stream",
     "text": [
      "CPU times: user 341 ms, sys: 75.1 ms, total: 416 ms\n",
      "Wall time: 477 ms\n"
     ]
    }
   ],
   "source": [
    "%%time\n",
    "import cellestial as cl"
   ]
  },
  {
   "cell_type": "code",
   "execution_count": 2,
   "metadata": {},
   "outputs": [
    {
     "name": "stdout",
     "output_type": "stream",
     "text": [
      "CPU times: user 1e+03 ns, sys: 1 μs, total: 2 μs\n",
      "Wall time: 1.91 μs\n"
     ]
    }
   ],
   "source": [
    "%%time\n",
    "import anndata"
   ]
  },
  {
   "cell_type": "code",
   "execution_count": 3,
   "metadata": {},
   "outputs": [
    {
     "name": "stdout",
     "output_type": "stream",
     "text": [
      "CPU times: user 2 μs, sys: 0 ns, total: 2 μs\n",
      "Wall time: 3.1 μs\n"
     ]
    }
   ],
   "source": [
    "%%time\n",
    "import lets_plot"
   ]
  },
  {
   "cell_type": "code",
   "execution_count": 4,
   "metadata": {},
   "outputs": [
    {
     "data": {
      "text/html": [
       "<details>\n",
       "<summary>Click to view session information</summary>\n",
       "<pre>\n",
       "-----\n",
       "anndata             0.11.0\n",
       "cellestial          0.2.0\n",
       "lets_plot           4.5.2\n",
       "session_info        1.0.0\n",
       "-----\n",
       "</pre>\n",
       "<details>\n",
       "<summary>Click to view modules imported as dependencies</summary>\n",
       "<pre>\n",
       "PIL                         11.0.0\n",
       "appnope                     0.1.4\n",
       "asttokens                   NA\n",
       "charset_normalizer          3.4.0\n",
       "comm                        0.2.2\n",
       "cycler                      0.12.1\n",
       "cython_runtime              NA\n",
       "dateutil                    2.9.0.post0\n",
       "debugpy                     1.8.8\n",
       "decorator                   5.1.1\n",
       "defusedxml                  0.7.1\n",
       "executing                   2.1.0\n",
       "h5py                        3.12.1\n",
       "ipykernel                   6.29.5\n",
       "jedi                        0.19.2\n",
       "kiwisolver                  1.4.7\n",
       "lets_plot_kotlin_bridge     NA\n",
       "matplotlib                  3.9.2\n",
       "mpl_toolkits                NA\n",
       "natsort                     8.4.0\n",
       "numpy                       2.0.2\n",
       "packaging                   24.2\n",
       "palettable                  3.3.3\n",
       "pandas                      2.2.3\n",
       "parso                       0.8.4\n",
       "platformdirs                4.3.6\n",
       "png                         0.20220715.0\n",
       "polars                      1.12.0\n",
       "prompt_toolkit              3.0.48\n",
       "psutil                      6.1.0\n",
       "pure_eval                   0.2.3\n",
       "pyarrow                     18.0.0\n",
       "pydev_ipython               NA\n",
       "pydevconsole                NA\n",
       "pydevd                      3.2.2\n",
       "pydevd_file_utils           NA\n",
       "pydevd_plugins              NA\n",
       "pydevd_tracing              NA\n",
       "pygments                    2.18.0\n",
       "pyparsing                   3.2.0\n",
       "pytz                        2024.2\n",
       "scipy                       1.14.1\n",
       "six                         1.16.0\n",
       "stack_data                  0.6.3\n",
       "tornado                     6.4.1\n",
       "traitlets                   5.14.3\n",
       "vscode                      NA\n",
       "wcwidth                     0.2.13\n",
       "zmq                         26.2.0\n",
       "</pre>\n",
       "</details> <!-- seems like this ends pre, so might as well be explicit -->\n",
       "<pre>\n",
       "-----\n",
       "IPython             8.29.0\n",
       "jupyter_client      8.6.3\n",
       "jupyter_core        5.7.2\n",
       "-----\n",
       "Python 3.12.8 (v3.12.8:2dc476bcb91, Dec  3 2024, 14:43:19) [Clang 13.0.0 (clang-1300.0.29.30)]\n",
       "macOS-15.1-arm64-arm-64bit\n",
       "-----\n",
       "Session information updated at 2025-02-01 13:24\n",
       "</pre>\n",
       "</details>"
      ],
      "text/plain": [
       "<IPython.core.display.HTML object>"
      ]
     },
     "execution_count": 4,
     "metadata": {},
     "output_type": "execute_result"
    }
   ],
   "source": [
    "import session_info\n",
    "session_info.show()"
   ]
  }
 ],
 "metadata": {
  "kernelspec": {
   "display_name": "cellestial-QESvkR8L-py3.12",
   "language": "python",
   "name": "python3"
  },
  "language_info": {
   "codemirror_mode": {
    "name": "ipython",
    "version": 3
   },
   "file_extension": ".py",
   "mimetype": "text/x-python",
   "name": "python",
   "nbconvert_exporter": "python",
   "pygments_lexer": "ipython3",
   "version": "3.12.8"
  }
 },
 "nbformat": 4,
 "nbformat_minor": 2
}
