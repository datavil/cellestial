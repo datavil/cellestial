{
 "cells": [
  {
   "cell_type": "code",
   "execution_count": 7,
   "id": "ca75bdc7",
   "metadata": {},
   "outputs": [
    {
     "data": {
      "text/html": [
       "\n",
       "            <div id=\"3Yxj6B\"></div>\n",
       "            <script type=\"text/javascript\" data-lets-plot-script=\"library\">\n",
       "                if(!window.letsPlotCallQueue) {\n",
       "                    window.letsPlotCallQueue = [];\n",
       "                }; \n",
       "                window.letsPlotCall = function(f) {\n",
       "                    window.letsPlotCallQueue.push(f);\n",
       "                };\n",
       "                (function() {\n",
       "                    var script = document.createElement(\"script\");\n",
       "                    script.type = \"text/javascript\";\n",
       "                    script.src = \"https://cdn.jsdelivr.net/gh/JetBrains/lets-plot@v4.5.2/js-package/distr/lets-plot.min.js\";\n",
       "                    script.onload = function() {\n",
       "                        window.letsPlotCall = function(f) {f();};\n",
       "                        window.letsPlotCallQueue.forEach(function(f) {f();});\n",
       "                        window.letsPlotCallQueue = [];\n",
       "                        \n",
       "                    };\n",
       "                    script.onerror = function(event) {\n",
       "                        window.letsPlotCall = function(f) {};    // noop\n",
       "                        window.letsPlotCallQueue = [];\n",
       "                        var div = document.createElement(\"div\");\n",
       "                        div.style.color = 'darkred';\n",
       "                        div.textContent = 'Error loading Lets-Plot JS';\n",
       "                        document.getElementById(\"3Yxj6B\").appendChild(div);\n",
       "                    };\n",
       "                    var e = document.getElementById(\"3Yxj6B\");\n",
       "                    e.appendChild(script);\n",
       "                })()\n",
       "            </script>\n",
       "            "
      ]
     },
     "metadata": {},
     "output_type": "display_data"
    }
   ],
   "source": [
    "from lets_plot import *\n",
    "\n",
    "LetsPlot.setup_html()\n",
    "import scanpy as sc\n",
    "from anndata import AnnData"
   ]
  },
  {
   "cell_type": "code",
   "execution_count": 8,
   "id": "87da9e55",
   "metadata": {},
   "outputs": [],
   "source": [
    "ad = sc.read(\"../data/pbmc3k_pped.h5ad\")"
   ]
  },
  {
   "cell_type": "code",
   "execution_count": 9,
   "id": "0cdec7c1",
   "metadata": {},
   "outputs": [],
   "source": [
    "def heatmap(\n",
    "    data: AnnData,\n",
    "    key: str,\n",
    "    ):\n",
    "    pass"
   ]
  },
  {
   "cell_type": "code",
   "execution_count": 10,
   "id": "bf3a5cfd",
   "metadata": {},
   "outputs": [],
   "source": [
    "import polars as pl"
   ]
  },
  {
   "cell_type": "code",
   "execution_count": 11,
   "id": "b4f9d0b2",
   "metadata": {},
   "outputs": [],
   "source": [
    "import numpy as np"
   ]
  },
  {
   "cell_type": "code",
   "execution_count": 67,
   "id": "80470d2a",
   "metadata": {},
   "outputs": [],
   "source": [
    "days = [\"Monday\", \"Tuesday\", \"Wednesday\", \"Thursday\", \"Friday\", \"Saturday\", \"Sunday\"]\n",
    "genes = [f\"gene{i}\" for i in range(1, 50)]"
   ]
  },
  {
   "cell_type": "code",
   "execution_count": 68,
   "id": "eb7fbb94",
   "metadata": {},
   "outputs": [],
   "source": [
    "days80 = []\n",
    "genes80 = []\n",
    "for d in days:\n",
    "    for g in genes:\n",
    "        days80.append(d)\n",
    "        genes80.append(g)"
   ]
  },
  {
   "cell_type": "code",
   "execution_count": 69,
   "id": "ba3f140c",
   "metadata": {},
   "outputs": [
    {
     "data": {
      "text/plain": [
       "array([0.02674724, 0.73977533, 0.29579521, 0.43300204, 0.56875372,\n",
       "       0.1565906 , 0.63327208, 0.43412882, 0.36474774, 0.25004455,\n",
       "       0.84376799, 0.64231701, 0.7084212 , 0.17951711, 0.94244772,\n",
       "       0.48757271, 0.13417814, 0.09296755, 0.08601805, 0.56010702,\n",
       "       0.47415797, 0.43640365, 0.77954604, 0.07025856, 0.72864941,\n",
       "       0.48350887, 0.75054586, 0.49593637, 0.40643586, 0.87676649,\n",
       "       0.46292508, 0.58072484, 0.58012359, 0.67219682, 0.77249521,\n",
       "       0.0918397 , 0.03164107, 0.10208414, 0.53395817, 0.55740178,\n",
       "       0.86973661, 0.41421695, 0.0685046 , 0.93202126, 0.09341885,\n",
       "       0.87982456, 0.55374363, 0.20581648, 0.14729676, 0.78915641,\n",
       "       0.82949022, 0.47495489, 0.55805614, 0.58004769, 0.54213569,\n",
       "       0.5886365 , 0.65184766, 0.14973564, 0.62174935, 0.2469278 ,\n",
       "       0.2098572 , 0.66401567, 0.69768171, 0.56050794, 0.49744823,\n",
       "       0.74464414, 0.39974154, 0.274757  , 0.12037161, 0.79004072,\n",
       "       0.56184776, 0.63013559, 0.08069902, 0.61531843, 0.09558193,\n",
       "       0.79356591, 0.32876923, 0.10053457, 0.29243768, 0.15532329,\n",
       "       0.36327252, 0.03249832, 0.87669518, 0.78357593, 0.78763275,\n",
       "       0.85983156, 0.02173412, 0.64858963, 0.97705271, 0.97444966,\n",
       "       0.0677968 , 0.48969822, 0.45452364, 0.68094419, 0.07078891,\n",
       "       0.62735387, 0.30779658, 0.61149457, 0.93536509, 0.06209557,\n",
       "       0.08012486, 0.5928483 , 0.2870657 , 0.13438541, 0.77207547,\n",
       "       0.44142571, 0.43263006, 0.00847203, 0.9928015 , 0.61440812,\n",
       "       0.93708708, 0.89020835, 0.63110419, 0.34027627, 0.33051027,\n",
       "       0.95908319, 0.67673583, 0.03374873, 0.19931439, 0.21665387,\n",
       "       0.2481434 , 0.46983242, 0.95856414, 0.38932276, 0.29821259,\n",
       "       0.90072762, 0.4498312 , 0.30295433, 0.68745058, 0.11010559,\n",
       "       0.26747732, 0.16915272, 0.73542377, 0.68667928, 0.06559207,\n",
       "       0.36246101, 0.00525063, 0.56173219, 0.76620927, 0.33747464,\n",
       "       0.93224446, 0.29396409, 0.97586107, 0.71954848, 0.14239739,\n",
       "       0.85486206, 0.91027023, 0.26713512, 0.89100843, 0.96870198,\n",
       "       0.27276557, 0.82956986, 0.67842005, 0.21983899, 0.43738734,\n",
       "       0.97319684, 0.21847053, 0.90654302, 0.78834225, 0.82632625,\n",
       "       0.55633929, 0.61020593, 0.27626976, 0.6867314 , 0.8437355 ,\n",
       "       0.80865775, 0.40879404, 0.38440152, 0.41222079, 0.17390032,\n",
       "       0.84568445, 0.37556966, 0.95286379, 0.58435993, 0.31919669,\n",
       "       0.99804633, 0.5417612 , 0.49099892, 0.06697541, 0.94449824,\n",
       "       0.40229329, 0.97971349, 0.72953534, 0.02682257, 0.76031076,\n",
       "       0.32466148, 0.27573135, 0.77481623, 0.03416453, 0.29036439,\n",
       "       0.37513578, 0.99708588, 0.88846001, 0.44046162, 0.55276044,\n",
       "       0.77017748, 0.13521812, 0.68262719, 0.7411564 , 0.3265544 ,\n",
       "       0.19888839, 0.91425634, 0.27687132, 0.99080406, 0.55009817,\n",
       "       0.26040687, 0.6942711 , 0.49622496, 0.00570135, 0.07662576,\n",
       "       0.05398368, 0.14767591, 0.89963268, 0.94142041, 0.65912377,\n",
       "       0.89717215, 0.47248477, 0.5185609 , 0.82847781, 0.14890081,\n",
       "       0.65458218, 0.92195966, 0.90867641, 0.26979578, 0.54461331,\n",
       "       0.25331144, 0.73514369, 0.56202547, 0.83818973, 0.13165453,\n",
       "       0.76921826, 0.95662757, 0.78467034, 0.50006535, 0.25992256,\n",
       "       0.24706728, 0.04561216, 0.39340336, 0.47688686, 0.4061663 ,\n",
       "       0.12997428, 0.38858578, 0.65147224, 0.78876007, 0.27374146,\n",
       "       0.05649858, 0.13170616, 0.15747319, 0.59539988, 0.66560884,\n",
       "       0.03854892, 0.74509567, 0.78216132, 0.36512036, 0.06365542,\n",
       "       0.52685645, 0.34324464, 0.41481743, 0.53919989, 0.59457792,\n",
       "       0.84762133, 0.05389998, 0.84165409, 0.63997195, 0.41443311,\n",
       "       0.42388694, 0.0343296 , 0.79785677, 0.23181503, 0.45203289,\n",
       "       0.96100831, 0.97744491, 0.63588852, 0.49390828, 0.57440017,\n",
       "       0.67094201, 0.45591886, 0.6573044 , 0.98231705, 0.40851077,\n",
       "       0.64412321, 0.69724568, 0.99851245, 0.62513201, 0.2932259 ,\n",
       "       0.12676029, 0.86037594, 0.49579948, 0.66063287, 0.1137367 ,\n",
       "       0.62706996, 0.87062994, 0.12911602, 0.41145375, 0.58641157,\n",
       "       0.75151443, 0.28941494, 0.7681977 , 0.09807682, 0.47693628,\n",
       "       0.98757872, 0.34815756, 0.67335364, 0.47622085, 0.0692247 ,\n",
       "       0.64548321, 0.39862012, 0.40260623, 0.17676426, 0.3972788 ,\n",
       "       0.3313403 , 0.73766166, 0.22578042, 0.75767599, 0.53235587,\n",
       "       0.22519842, 0.97947966, 0.0234643 , 0.39797461, 0.88364036,\n",
       "       0.77727043, 0.16886038, 0.22780449, 0.46010266, 0.78830058,\n",
       "       0.25040365, 0.99853692, 0.62603265, 0.17792303, 0.14638395,\n",
       "       0.61113707, 0.04894961, 0.81826565, 0.9403804 , 0.67284986,\n",
       "       0.30866674, 0.19221819, 0.90103376, 0.16433198, 0.53990962,\n",
       "       0.79698759, 0.15507599, 0.31037461])"
      ]
     },
     "execution_count": 69,
     "metadata": {},
     "output_type": "execute_result"
    }
   ],
   "source": [
    "values = np.random.rand(len(days)*len(genes))\n",
    "values"
   ]
  },
  {
   "cell_type": "code",
   "execution_count": 70,
   "id": "c70bf421",
   "metadata": {},
   "outputs": [],
   "source": [
    "df = pl.DataFrame(\n",
    "    {\n",
    "        \"days\" : days80,\n",
    "        \"genes\" : genes80,\n",
    "        \"values\" : values\n",
    "    }\n",
    ")"
   ]
  },
  {
   "cell_type": "code",
   "execution_count": 71,
   "id": "4729480c",
   "metadata": {},
   "outputs": [
    {
     "data": {
      "text/html": [
       "<div><style>\n",
       ".dataframe > thead > tr,\n",
       ".dataframe > tbody > tr {\n",
       "  text-align: right;\n",
       "  white-space: pre-wrap;\n",
       "}\n",
       "</style>\n",
       "<small>shape: (343, 3)</small><table border=\"1\" class=\"dataframe\"><thead><tr><th>days</th><th>genes</th><th>values</th></tr><tr><td>str</td><td>str</td><td>f64</td></tr></thead><tbody><tr><td>&quot;Monday&quot;</td><td>&quot;gene1&quot;</td><td>0.026747</td></tr><tr><td>&quot;Monday&quot;</td><td>&quot;gene2&quot;</td><td>0.739775</td></tr><tr><td>&quot;Monday&quot;</td><td>&quot;gene3&quot;</td><td>0.295795</td></tr><tr><td>&quot;Monday&quot;</td><td>&quot;gene4&quot;</td><td>0.433002</td></tr><tr><td>&quot;Monday&quot;</td><td>&quot;gene5&quot;</td><td>0.568754</td></tr><tr><td>&hellip;</td><td>&hellip;</td><td>&hellip;</td></tr><tr><td>&quot;Sunday&quot;</td><td>&quot;gene45&quot;</td><td>0.164332</td></tr><tr><td>&quot;Sunday&quot;</td><td>&quot;gene46&quot;</td><td>0.53991</td></tr><tr><td>&quot;Sunday&quot;</td><td>&quot;gene47&quot;</td><td>0.796988</td></tr><tr><td>&quot;Sunday&quot;</td><td>&quot;gene48&quot;</td><td>0.155076</td></tr><tr><td>&quot;Sunday&quot;</td><td>&quot;gene49&quot;</td><td>0.310375</td></tr></tbody></table></div>"
      ],
      "text/plain": [
       "shape: (343, 3)\n",
       "┌────────┬────────┬──────────┐\n",
       "│ days   ┆ genes  ┆ values   │\n",
       "│ ---    ┆ ---    ┆ ---      │\n",
       "│ str    ┆ str    ┆ f64      │\n",
       "╞════════╪════════╪══════════╡\n",
       "│ Monday ┆ gene1  ┆ 0.026747 │\n",
       "│ Monday ┆ gene2  ┆ 0.739775 │\n",
       "│ Monday ┆ gene3  ┆ 0.295795 │\n",
       "│ Monday ┆ gene4  ┆ 0.433002 │\n",
       "│ Monday ┆ gene5  ┆ 0.568754 │\n",
       "│ …      ┆ …      ┆ …        │\n",
       "│ Sunday ┆ gene45 ┆ 0.164332 │\n",
       "│ Sunday ┆ gene46 ┆ 0.53991  │\n",
       "│ Sunday ┆ gene47 ┆ 0.796988 │\n",
       "│ Sunday ┆ gene48 ┆ 0.155076 │\n",
       "│ Sunday ┆ gene49 ┆ 0.310375 │\n",
       "└────────┴────────┴──────────┘"
      ]
     },
     "execution_count": 71,
     "metadata": {},
     "output_type": "execute_result"
    }
   ],
   "source": [
    "df"
   ]
  },
  {
   "cell_type": "code",
   "execution_count": 72,
   "id": "2eae292d",
   "metadata": {},
   "outputs": [],
   "source": [
    "import cellestial as cl"
   ]
  },
  {
   "cell_type": "code",
   "execution_count": 93,
   "id": "69ccd31b",
   "metadata": {},
   "outputs": [
    {
     "data": {
      "text/html": [
       "   <div id=\"PCndIS\"></div>\n",
       "   <script type=\"text/javascript\" data-lets-plot-script=\"plot\">\n",
       "   \n",
       "   (function() {\n",
       "   // ----------\n",
       "   \n",
       "   var containerDiv = document.getElementById(\"PCndIS\");\n",
       "   var observer = new ResizeObserver(function(entries) {\n",
       "       for (let entry of entries) {\n",
       "           var width = containerDiv.clientWidth\n",
       "           if (entry.contentBoxSize && width > 0) {\n",
       "           \n",
       "               // Render plot\n",
       "               if (observer) {\n",
       "                   observer.disconnect();\n",
       "                   observer = null;\n",
       "               }\n",
       "\n",
       "               var plotSpec={\n",
       "\"data\":{\n",
       "\"days\":[\"Monday\",\"Monday\",\"Monday\",\"Monday\",\"Monday\",\"Monday\",\"Monday\",\"Monday\",\"Monday\",\"Monday\",\"Monday\",\"Monday\",\"Monday\",\"Monday\",\"Monday\",\"Monday\",\"Monday\",\"Monday\",\"Monday\",\"Monday\",\"Monday\",\"Monday\",\"Monday\",\"Monday\",\"Monday\",\"Monday\",\"Monday\",\"Monday\",\"Monday\",\"Monday\",\"Monday\",\"Monday\",\"Monday\",\"Monday\",\"Monday\",\"Monday\",\"Monday\",\"Monday\",\"Monday\",\"Monday\",\"Monday\",\"Monday\",\"Monday\",\"Monday\",\"Monday\",\"Monday\",\"Monday\",\"Monday\",\"Monday\",\"Tuesday\",\"Tuesday\",\"Tuesday\",\"Tuesday\",\"Tuesday\",\"Tuesday\",\"Tuesday\",\"Tuesday\",\"Tuesday\",\"Tuesday\",\"Tuesday\",\"Tuesday\",\"Tuesday\",\"Tuesday\",\"Tuesday\",\"Tuesday\",\"Tuesday\",\"Tuesday\",\"Tuesday\",\"Tuesday\",\"Tuesday\",\"Tuesday\",\"Tuesday\",\"Tuesday\",\"Tuesday\",\"Tuesday\",\"Tuesday\",\"Tuesday\",\"Tuesday\",\"Tuesday\",\"Tuesday\",\"Tuesday\",\"Tuesday\",\"Tuesday\",\"Tuesday\",\"Tuesday\",\"Tuesday\",\"Tuesday\",\"Tuesday\",\"Tuesday\",\"Tuesday\",\"Tuesday\",\"Tuesday\",\"Tuesday\",\"Tuesday\",\"Tuesday\",\"Tuesday\",\"Tuesday\",\"Tuesday\",\"Wednesday\",\"Wednesday\",\"Wednesday\",\"Wednesday\",\"Wednesday\",\"Wednesday\",\"Wednesday\",\"Wednesday\",\"Wednesday\",\"Wednesday\",\"Wednesday\",\"Wednesday\",\"Wednesday\",\"Wednesday\",\"Wednesday\",\"Wednesday\",\"Wednesday\",\"Wednesday\",\"Wednesday\",\"Wednesday\",\"Wednesday\",\"Wednesday\",\"Wednesday\",\"Wednesday\",\"Wednesday\",\"Wednesday\",\"Wednesday\",\"Wednesday\",\"Wednesday\",\"Wednesday\",\"Wednesday\",\"Wednesday\",\"Wednesday\",\"Wednesday\",\"Wednesday\",\"Wednesday\",\"Wednesday\",\"Wednesday\",\"Wednesday\",\"Wednesday\",\"Wednesday\",\"Wednesday\",\"Wednesday\",\"Wednesday\",\"Wednesday\",\"Wednesday\",\"Wednesday\",\"Wednesday\",\"Wednesday\",\"Thursday\",\"Thursday\",\"Thursday\",\"Thursday\",\"Thursday\",\"Thursday\",\"Thursday\",\"Thursday\",\"Thursday\",\"Thursday\",\"Thursday\",\"Thursday\",\"Thursday\",\"Thursday\",\"Thursday\",\"Thursday\",\"Thursday\",\"Thursday\",\"Thursday\",\"Thursday\",\"Thursday\",\"Thursday\",\"Thursday\",\"Thursday\",\"Thursday\",\"Thursday\",\"Thursday\",\"Thursday\",\"Thursday\",\"Thursday\",\"Thursday\",\"Thursday\",\"Thursday\",\"Thursday\",\"Thursday\",\"Thursday\",\"Thursday\",\"Thursday\",\"Thursday\",\"Thursday\",\"Thursday\",\"Thursday\",\"Thursday\",\"Thursday\",\"Thursday\",\"Thursday\",\"Thursday\",\"Thursday\",\"Thursday\",\"Friday\",\"Friday\",\"Friday\",\"Friday\",\"Friday\",\"Friday\",\"Friday\",\"Friday\",\"Friday\",\"Friday\",\"Friday\",\"Friday\",\"Friday\",\"Friday\",\"Friday\",\"Friday\",\"Friday\",\"Friday\",\"Friday\",\"Friday\",\"Friday\",\"Friday\",\"Friday\",\"Friday\",\"Friday\",\"Friday\",\"Friday\",\"Friday\",\"Friday\",\"Friday\",\"Friday\",\"Friday\",\"Friday\",\"Friday\",\"Friday\",\"Friday\",\"Friday\",\"Friday\",\"Friday\",\"Friday\",\"Friday\",\"Friday\",\"Friday\",\"Friday\",\"Friday\",\"Friday\",\"Friday\",\"Friday\",\"Friday\",\"Saturday\",\"Saturday\",\"Saturday\",\"Saturday\",\"Saturday\",\"Saturday\",\"Saturday\",\"Saturday\",\"Saturday\",\"Saturday\",\"Saturday\",\"Saturday\",\"Saturday\",\"Saturday\",\"Saturday\",\"Saturday\",\"Saturday\",\"Saturday\",\"Saturday\",\"Saturday\",\"Saturday\",\"Saturday\",\"Saturday\",\"Saturday\",\"Saturday\",\"Saturday\",\"Saturday\",\"Saturday\",\"Saturday\",\"Saturday\",\"Saturday\",\"Saturday\",\"Saturday\",\"Saturday\",\"Saturday\",\"Saturday\",\"Saturday\",\"Saturday\",\"Saturday\",\"Saturday\",\"Saturday\",\"Saturday\",\"Saturday\",\"Saturday\",\"Saturday\",\"Saturday\",\"Saturday\",\"Saturday\",\"Saturday\",\"Sunday\",\"Sunday\",\"Sunday\",\"Sunday\",\"Sunday\",\"Sunday\",\"Sunday\",\"Sunday\",\"Sunday\",\"Sunday\",\"Sunday\",\"Sunday\",\"Sunday\",\"Sunday\",\"Sunday\",\"Sunday\",\"Sunday\",\"Sunday\",\"Sunday\",\"Sunday\",\"Sunday\",\"Sunday\",\"Sunday\",\"Sunday\",\"Sunday\",\"Sunday\",\"Sunday\",\"Sunday\",\"Sunday\",\"Sunday\",\"Sunday\",\"Sunday\",\"Sunday\",\"Sunday\",\"Sunday\",\"Sunday\",\"Sunday\",\"Sunday\",\"Sunday\",\"Sunday\",\"Sunday\",\"Sunday\",\"Sunday\",\"Sunday\",\"Sunday\",\"Sunday\",\"Sunday\",\"Sunday\",\"Sunday\"],\n",
       "\"genes\":[\"gene1\",\"gene2\",\"gene3\",\"gene4\",\"gene5\",\"gene6\",\"gene7\",\"gene8\",\"gene9\",\"gene10\",\"gene11\",\"gene12\",\"gene13\",\"gene14\",\"gene15\",\"gene16\",\"gene17\",\"gene18\",\"gene19\",\"gene20\",\"gene21\",\"gene22\",\"gene23\",\"gene24\",\"gene25\",\"gene26\",\"gene27\",\"gene28\",\"gene29\",\"gene30\",\"gene31\",\"gene32\",\"gene33\",\"gene34\",\"gene35\",\"gene36\",\"gene37\",\"gene38\",\"gene39\",\"gene40\",\"gene41\",\"gene42\",\"gene43\",\"gene44\",\"gene45\",\"gene46\",\"gene47\",\"gene48\",\"gene49\",\"gene1\",\"gene2\",\"gene3\",\"gene4\",\"gene5\",\"gene6\",\"gene7\",\"gene8\",\"gene9\",\"gene10\",\"gene11\",\"gene12\",\"gene13\",\"gene14\",\"gene15\",\"gene16\",\"gene17\",\"gene18\",\"gene19\",\"gene20\",\"gene21\",\"gene22\",\"gene23\",\"gene24\",\"gene25\",\"gene26\",\"gene27\",\"gene28\",\"gene29\",\"gene30\",\"gene31\",\"gene32\",\"gene33\",\"gene34\",\"gene35\",\"gene36\",\"gene37\",\"gene38\",\"gene39\",\"gene40\",\"gene41\",\"gene42\",\"gene43\",\"gene44\",\"gene45\",\"gene46\",\"gene47\",\"gene48\",\"gene49\",\"gene1\",\"gene2\",\"gene3\",\"gene4\",\"gene5\",\"gene6\",\"gene7\",\"gene8\",\"gene9\",\"gene10\",\"gene11\",\"gene12\",\"gene13\",\"gene14\",\"gene15\",\"gene16\",\"gene17\",\"gene18\",\"gene19\",\"gene20\",\"gene21\",\"gene22\",\"gene23\",\"gene24\",\"gene25\",\"gene26\",\"gene27\",\"gene28\",\"gene29\",\"gene30\",\"gene31\",\"gene32\",\"gene33\",\"gene34\",\"gene35\",\"gene36\",\"gene37\",\"gene38\",\"gene39\",\"gene40\",\"gene41\",\"gene42\",\"gene43\",\"gene44\",\"gene45\",\"gene46\",\"gene47\",\"gene48\",\"gene49\",\"gene1\",\"gene2\",\"gene3\",\"gene4\",\"gene5\",\"gene6\",\"gene7\",\"gene8\",\"gene9\",\"gene10\",\"gene11\",\"gene12\",\"gene13\",\"gene14\",\"gene15\",\"gene16\",\"gene17\",\"gene18\",\"gene19\",\"gene20\",\"gene21\",\"gene22\",\"gene23\",\"gene24\",\"gene25\",\"gene26\",\"gene27\",\"gene28\",\"gene29\",\"gene30\",\"gene31\",\"gene32\",\"gene33\",\"gene34\",\"gene35\",\"gene36\",\"gene37\",\"gene38\",\"gene39\",\"gene40\",\"gene41\",\"gene42\",\"gene43\",\"gene44\",\"gene45\",\"gene46\",\"gene47\",\"gene48\",\"gene49\",\"gene1\",\"gene2\",\"gene3\",\"gene4\",\"gene5\",\"gene6\",\"gene7\",\"gene8\",\"gene9\",\"gene10\",\"gene11\",\"gene12\",\"gene13\",\"gene14\",\"gene15\",\"gene16\",\"gene17\",\"gene18\",\"gene19\",\"gene20\",\"gene21\",\"gene22\",\"gene23\",\"gene24\",\"gene25\",\"gene26\",\"gene27\",\"gene28\",\"gene29\",\"gene30\",\"gene31\",\"gene32\",\"gene33\",\"gene34\",\"gene35\",\"gene36\",\"gene37\",\"gene38\",\"gene39\",\"gene40\",\"gene41\",\"gene42\",\"gene43\",\"gene44\",\"gene45\",\"gene46\",\"gene47\",\"gene48\",\"gene49\",\"gene1\",\"gene2\",\"gene3\",\"gene4\",\"gene5\",\"gene6\",\"gene7\",\"gene8\",\"gene9\",\"gene10\",\"gene11\",\"gene12\",\"gene13\",\"gene14\",\"gene15\",\"gene16\",\"gene17\",\"gene18\",\"gene19\",\"gene20\",\"gene21\",\"gene22\",\"gene23\",\"gene24\",\"gene25\",\"gene26\",\"gene27\",\"gene28\",\"gene29\",\"gene30\",\"gene31\",\"gene32\",\"gene33\",\"gene34\",\"gene35\",\"gene36\",\"gene37\",\"gene38\",\"gene39\",\"gene40\",\"gene41\",\"gene42\",\"gene43\",\"gene44\",\"gene45\",\"gene46\",\"gene47\",\"gene48\",\"gene49\",\"gene1\",\"gene2\",\"gene3\",\"gene4\",\"gene5\",\"gene6\",\"gene7\",\"gene8\",\"gene9\",\"gene10\",\"gene11\",\"gene12\",\"gene13\",\"gene14\",\"gene15\",\"gene16\",\"gene17\",\"gene18\",\"gene19\",\"gene20\",\"gene21\",\"gene22\",\"gene23\",\"gene24\",\"gene25\",\"gene26\",\"gene27\",\"gene28\",\"gene29\",\"gene30\",\"gene31\",\"gene32\",\"gene33\",\"gene34\",\"gene35\",\"gene36\",\"gene37\",\"gene38\",\"gene39\",\"gene40\",\"gene41\",\"gene42\",\"gene43\",\"gene44\",\"gene45\",\"gene46\",\"gene47\",\"gene48\",\"gene49\"],\n",
       "\"values\":[0.026747240526105442,0.7397753254689549,0.29579521487556815,0.4330020394785451,0.5687537181465336,0.15659060336318142,0.633272076404667,0.434128815371266,0.3647477368516273,0.2500445450235379,0.8437679925960644,0.6423170125465516,0.7084212029459747,0.17951710555252742,0.94244772188905,0.48757271307069694,0.1341781424555778,0.09296754759767656,0.086018045681582,0.560107015071221,0.4741579691467679,0.4364036515334674,0.7795460448237684,0.07025855533660885,0.7286494068614654,0.48350887305602297,0.7505458550871886,0.49593636687339526,0.40643586049339653,0.8767664935828665,0.4629250830299325,0.5807248440632654,0.5801235909415591,0.6721968237411886,0.7724952114684398,0.09183970392117402,0.031641066890739644,0.1020841350509415,0.5339581721794942,0.5574017760997062,0.8697366110735179,0.4142169463459724,0.06850459797890174,0.932021261722899,0.09341884640280584,0.8798245648547094,0.5537436269414899,0.20581648293241384,0.14729675928626018,0.7891564075485568,0.8294902207224123,0.47495489105934585,0.558056139001037,0.5800476915872032,0.5421356852748296,0.5886365043370536,0.6518476583953569,0.14973564386138516,0.6217493480757826,0.2469277962525308,0.20985720301108501,0.6640156690974668,0.6976817137289258,0.5605079393004049,0.4974482297851137,0.7446441401924652,0.3997415440174633,0.2747570008979002,0.12037161432510946,0.7900407228165535,0.5618477640250683,0.6301355946996082,0.0806990198244667,0.6153184261718339,0.09558193241116908,0.7935659076443949,0.32876922825161214,0.1005345733540195,0.29243767880149174,0.1553232949401363,0.3632725237715555,0.032498317160008505,0.8766951837232521,0.7835759334325901,0.7876327507116127,0.8598315570906709,0.02173412396707386,0.6485896279013582,0.9770527149775436,0.974449661471258,0.06779679767011493,0.4896982228127621,0.45452364322126526,0.68094418576252,0.070788906398082,0.6273538692744963,0.3077965824199004,0.6114945652061927,0.9353650886941453,0.06209556887740242,0.08012486243288652,0.592848304707023,0.28706570012122024,0.134385409997115,0.7720754724672285,0.44142571107800055,0.432630059914517,0.008472028786063235,0.9928014954616288,0.6144081172215473,0.9370870808744771,0.8902083540948207,0.6311041869016365,0.34027626879440154,0.33051027277204503,0.9590831867193065,0.6767358288975069,0.033748725429393,0.19931439473356516,0.21665387254696233,0.2481433957804664,0.46983241565107614,0.9585641350618647,0.38932275816213746,0.2982125913792797,0.9007276179978456,0.4498312032546843,0.3029543319139415,0.6874505791851521,0.11010559170957879,0.2674773168749778,0.16915271831190637,0.7354237655374636,0.6866792796540492,0.06559206567159115,0.3624610093742403,0.005250628760721909,0.561732189100037,0.7662092741227521,0.33747463860121674,0.9322444570284412,0.29396409308285554,0.9758610745912244,0.7195484835513403,0.14239739173974675,0.8548620608398716,0.9102702309317701,0.26713512174087106,0.8910084310164939,0.9687019822467059,0.2727655718760126,0.8295698614709813,0.67842005053873,0.21983898958471337,0.43738733504300475,0.9731968394338644,0.21847053397392646,0.9065430163535931,0.7883422450174387,0.8263262496797374,0.5563392920642712,0.6102059291206205,0.2762697588986589,0.6867314019041467,0.8437354952090621,0.808657749855647,0.4087940364071344,0.38440152447804976,0.41222078809715235,0.173900322681513,0.8456844537102896,0.37556965652023566,0.9528637856309207,0.5843599278046085,0.31919669424069175,0.9980463251878459,0.5417611954013698,0.4909989195928175,0.06697540740345798,0.9444982426466281,0.40229328685073085,0.9797134874350507,0.7295353388876425,0.02682256936450922,0.7603107648092771,0.32466147705942416,0.2757313521000845,0.7748162340893286,0.034164531054295066,0.2903643930718417,0.3751357804557568,0.9970858768052364,0.8884600077015788,0.44046162317172466,0.552760439150457,0.770177477463864,0.13521812107926712,0.6826271850776413,0.741156395143323,0.32655439823014587,0.19888839038701733,0.9142563362924693,0.2768713246811937,0.9908040603254318,0.5500981708605959,0.26040687300658294,0.6942711002122612,0.496224964650704,0.005701349725299121,0.07662576068560567,0.0539836831564916,0.14767591471544328,0.8996326809195612,0.9414204070619044,0.6591237741103196,0.8971721482208674,0.47248477128517097,0.518560898339494,0.8284778050204966,0.14890081238748099,0.6545821764067999,0.9219596638737759,0.9086764077758608,0.2697957798111321,0.544613309633733,0.25331143909328413,0.7351436920300874,0.562025472245902,0.8381897261766416,0.1316545311719356,0.7692182628395094,0.9566275721043505,0.7846703405890384,0.5000653457239945,0.25992255924566,0.247067284828572,0.04561216266194068,0.3934033574903083,0.476886864036299,0.40616630489768846,0.12997427858548483,0.38858577575262865,0.6514722442431687,0.78876006666812,0.27374145869524347,0.05649857801341385,0.13170616168355598,0.15747319481123834,0.5953998792437172,0.6656088429921189,0.03854892227354534,0.7450956692053112,0.7821613172992792,0.3651203629524301,0.06365541594325752,0.5268564452688124,0.3432446367158418,0.4148174284532985,0.5391998918393457,0.5945779178536051,0.8476213322992227,0.053899981981558986,0.8416540880209126,0.6399719480116567,0.41443311250479276,0.4238869385607442,0.03432960127633278,0.7978567721120727,0.23181503192551278,0.4520328861832913,0.9610083064469104,0.9774449079709202,0.6358885186643883,0.4939082810632327,0.5744001695165406,0.6709420114656499,0.4559188572037305,0.6573044038885951,0.9823170481172263,0.4085107727483941,0.6441232067441459,0.6972456753694577,0.9985124549268627,0.6251320107299295,0.2932258987910258,0.1267602934469877,0.8603759403532857,0.49579947690080883,0.6606328744512531,0.11373669551450283,0.6270699607297908,0.8706299371352483,0.1291160184119745,0.4114537453355024,0.5864115729946318,0.7515144280624947,0.28941494135705526,0.7681977040678438,0.09807681837949778,0.4769362805049797,0.9875787153151931,0.3481575611587756,0.6733536395929262,0.4762208456973348,0.06922470277867443,0.6454832109620883,0.3986201236215342,0.4026062345642424,0.1767642640489534,0.3972787963400718,0.33134029699895395,0.7376616616827946,0.22578041940252092,0.7576759923832581,0.5323558740052774,0.225198420731629,0.9794796615219323,0.023464303229839167,0.3979746128863929,0.8836403624269219,0.7772704319411993,0.168860376558696,0.22780448787227536,0.46010266107195785,0.7883005772022645,0.2504036463964753,0.9985369245951803,0.6260326453945867,0.1779230283764235,0.14638394869116556,0.6111370723912621,0.0489496102676642,0.8182656529374869,0.9403803995049611,0.6728498581090466,0.3086667354973853,0.19221818555330994,0.9010337594349117,0.16433198483989464,0.5399096218235868,0.7969875880663503,0.1550759856970676,0.3103746056649018]\n",
       "},\n",
       "\"mapping\":{\n",
       "},\n",
       "\"data_meta\":{\n",
       "\"series_annotations\":[{\n",
       "\"type\":\"str\",\n",
       "\"column\":\"days\"\n",
       "},{\n",
       "\"type\":\"str\",\n",
       "\"column\":\"genes\"\n",
       "},{\n",
       "\"type\":\"float\",\n",
       "\"column\":\"values\"\n",
       "}]\n",
       "},\n",
       "\"ggsize\":{\n",
       "\"width\":800.0,\n",
       "\"height\":600.0\n",
       "},\n",
       "\"theme\":{\n",
       "\"name\":\"classic\",\n",
       "\"axis_title\":{\n",
       "\"blank\":true\n",
       "},\n",
       "\"axis_ticks\":{\n",
       "\"color\":\"black\",\n",
       "\"size\":1.0,\n",
       "\"blank\":false\n",
       "},\n",
       "\"axis_line\":{\n",
       "\"color\":\"black\",\n",
       "\"size\":0.0,\n",
       "\"blank\":false\n",
       "}\n",
       "},\n",
       "\"kind\":\"plot\",\n",
       "\"scales\":[{\n",
       "\"aesthetic\":\"fill\",\n",
       "\"low\":\"#F9F9F9\",\n",
       "\"high\":\"#219B9D\",\n",
       "\"scale_mapper_kind\":\"color_gradient\"\n",
       "}],\n",
       "\"layers\":[{\n",
       "\"geom\":\"raster\",\n",
       "\"mapping\":{\n",
       "\"x\":\"genes\",\n",
       "\"y\":\"days\",\n",
       "\"fill\":\"values\"\n",
       "},\n",
       "\"data_meta\":{\n",
       "},\n",
       "\"width\":0.1,\n",
       "\"data\":{\n",
       "}\n",
       "}],\n",
       "\"metainfo_list\":[],\n",
       "\"spec_id\":\"53\"\n",
       "};\n",
       "               window.letsPlotCall(function() {\n",
       "       \n",
       "               var toolbar = null;\n",
       "               var plotContainer = containerDiv;               \n",
       "               \n",
       "                   var options = {\n",
       "                       sizing: {\n",
       "                           width_mode: \"min\",\n",
       "                           height_mode: \"scaled\",\n",
       "                           width: width\n",
       "                       }\n",
       "                   };\n",
       "                   var fig = LetsPlot.buildPlotFromProcessedSpecs(plotSpec, -1, -1, plotContainer, options);\n",
       "                   if (toolbar) {\n",
       "                     toolbar.bind(fig);\n",
       "                   }\n",
       "               });\n",
       "               \n",
       "               break;\n",
       "           }\n",
       "       }\n",
       "   });\n",
       "   \n",
       "   observer.observe(containerDiv);\n",
       "   \n",
       "   // ----------\n",
       "   })();\n",
       "   \n",
       "   </script>"
      ],
      "text/plain": [
       "<lets_plot.plot.core.PlotSpec at 0x23c13172c30>"
      ]
     },
     "execution_count": 93,
     "metadata": {},
     "output_type": "execute_result"
    }
   ],
   "source": [
    "(\n",
    "    ggplot(data=df)\n",
    "    + geom_raster(aes(x=\"genes\", y=\"days\", fill=\"values\"),width=0.1)\n",
    "    + scale_fill_gradient(low=cl.SNOW, high=cl.TEAL)\n",
    "    + ggsize(800,600)\n",
    "    + theme_classic()\n",
    "    + theme(axis_ticks=element_line(color=\"black\",size=1), axis_line=element_line(color=\"black\",size=0), axis_title=element_blank())\n",
    ")"
   ]
  },
  {
   "cell_type": "code",
   "execution_count": null,
   "id": "43c84338",
   "metadata": {},
   "outputs": [],
   "source": []
  }
 ],
 "metadata": {
  "kernelspec": {
   "display_name": ".venv",
   "language": "python",
   "name": "python3"
  },
  "language_info": {
   "codemirror_mode": {
    "name": "ipython",
    "version": 3
   },
   "file_extension": ".py",
   "mimetype": "text/x-python",
   "name": "python",
   "nbconvert_exporter": "python",
   "pygments_lexer": "ipython3",
   "version": "3.12.8"
  }
 },
 "nbformat": 4,
 "nbformat_minor": 5
}
