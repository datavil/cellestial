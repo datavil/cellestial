{
 "cells": [
  {
   "cell_type": "code",
   "execution_count": null,
   "metadata": {
    "vscode": {
     "languageId": "plaintext"
    }
   },
   "outputs": [],
   "source": []
  },
  {
   "cell_type": "code",
   "execution_count": null,
   "metadata": {
    "vscode": {
     "languageId": "plaintext"
    }
   },
   "outputs": [],
   "source": [
    "# handle tooltips\n",
    "if key is None:\n",
    "    base_tooltips = [barcode_name]\n",
    "else:\n",
    "    base_tooltips = [barcode_name, key]\n",
    "\n",
    "tooltips = _decide_tooltips(\n",
    "    base_tooltips=base_tooltips,\n",
    "    add_tooltips=add_tooltips,\n",
    "    custom_tooltips=custom_tooltips,\n",
    "    show_tooltips=show_tooltips,\n",
    ")"
   ]
  }
 ],
 "metadata": {
  "language_info": {
   "name": "python"
  }
 },
 "nbformat": 4,
 "nbformat_minor": 2
}
