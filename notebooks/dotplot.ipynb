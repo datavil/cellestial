{
 "cells": [
  {
   "cell_type": "code",
   "execution_count": 14,
   "metadata": {},
   "outputs": [
    {
     "data": {
      "text/html": [
       "\n",
       "            <div id=\"3mnWn2\"></div>\n",
       "            <script type=\"text/javascript\" data-lets-plot-script=\"library\">\n",
       "                if(!window.letsPlotCallQueue) {\n",
       "                    window.letsPlotCallQueue = [];\n",
       "                }; \n",
       "                window.letsPlotCall = function(f) {\n",
       "                    window.letsPlotCallQueue.push(f);\n",
       "                };\n",
       "                (function() {\n",
       "                    var script = document.createElement(\"script\");\n",
       "                    script.type = \"text/javascript\";\n",
       "                    script.src = \"https://cdn.jsdelivr.net/gh/JetBrains/lets-plot@v4.5.2/js-package/distr/lets-plot.min.js\";\n",
       "                    script.onload = function() {\n",
       "                        window.letsPlotCall = function(f) {f();};\n",
       "                        window.letsPlotCallQueue.forEach(function(f) {f();});\n",
       "                        window.letsPlotCallQueue = [];\n",
       "                        \n",
       "                    };\n",
       "                    script.onerror = function(event) {\n",
       "                        window.letsPlotCall = function(f) {};    // noop\n",
       "                        window.letsPlotCallQueue = [];\n",
       "                        var div = document.createElement(\"div\");\n",
       "                        div.style.color = 'darkred';\n",
       "                        div.textContent = 'Error loading Lets-Plot JS';\n",
       "                        document.getElementById(\"3mnWn2\").appendChild(div);\n",
       "                    };\n",
       "                    var e = document.getElementById(\"3mnWn2\");\n",
       "                    e.appendChild(script);\n",
       "                })()\n",
       "            </script>\n",
       "            "
      ]
     },
     "metadata": {},
     "output_type": "display_data"
    },
    {
     "name": "stderr",
     "output_type": "stream",
     "text": [
      "c:\\Users\\zafi_\\packages\\cellestial\\.venv\\Lib\\site-packages\\anndata\\_core\\anndata.py:1758: UserWarning: Observation names are not unique. To make them unique, call `.obs_names_make_unique`.\n",
      "  utils.warn_names_duplicates(\"obs\")\n"
     ]
    }
   ],
   "source": [
    "from __future__ import annotations\n",
    "\n",
    "from collections.abc import Iterable\n",
    "from typing import TYPE_CHECKING, Any, Literal\n",
    "\n",
    "import polars as pl\n",
    "import scanpy as sc\n",
    "from lets_plot import *\n",
    "\n",
    "import cellestial as cl\n",
    "\n",
    "LetsPlot.setup_html()\n",
    "data = sc.read(\"data/pbmc3k_pped.h5ad\")\n",
    "\n",
    "from lets_plot.plot.core import PlotSpec\n",
    "from scanpy import AnnData\n",
    "from math import log10\n"
   ]
  },
  {
   "cell_type": "code",
   "execution_count": 15,
   "metadata": {},
   "outputs": [
    {
     "data": {
      "text/plain": [
       "Index(['AL390719.2', 'C1QTNF12', 'AL162741.1', 'LINC01786', 'AL391244.2',\n",
       "       'TMEM52', 'AL589739.1', 'PLCH2', 'AL513320.1', 'CHD5',\n",
       "       ...\n",
       "       'AC244090.3', 'MTCP1', 'TMLHE-AS1', 'AC012078.2', 'PCDH11Y', 'PRKY',\n",
       "       'KDM5D', 'TTTY10', 'MT-ND2', 'MT-ND5'],\n",
       "      dtype='object', length=2000)"
      ]
     },
     "execution_count": 15,
     "metadata": {},
     "output_type": "execute_result"
    }
   ],
   "source": [
    "data.var_names"
   ]
  },
  {
   "cell_type": "code",
   "execution_count": 16,
   "metadata": {},
   "outputs": [],
   "source": [
    "def _range_inclusive(start:float, stop:float, step:int)->list[float]:\n",
    "\n",
    "    decimals = 0\n",
    "    if stop-start<1:\n",
    "        if stop-start==0:\n",
    "            return [start]\n",
    "        decimals = -round(log10(stop-start))+1\n",
    "\n",
    "\n",
    "    diff = round(stop - start, decimals)\n",
    "    increment = round(diff / (step -1), decimals+1)\n",
    "    inc_list = []\n",
    "\n",
    "\n",
    "    for i in range(step):\n",
    "        inc_list.append(round(start + increment * i,decimals+2))\n",
    "    # make unique\n",
    "    inc_list = list(set(inc_list))\n",
    "    return inc_list.sort()"
   ]
  },
  {
   "cell_type": "code",
   "execution_count": 79,
   "metadata": {},
   "outputs": [],
   "source": [
    "def _construct_dotplot_frame(\n",
    "    df: pl.DataFrame,\n",
    "    group_by: str,\n",
    "    *,\n",
    "    add_mean: bool = True,\n",
    "    add_percentage: bool = True,\n",
    "    add_sum: bool = True,\n",
    "    variable_name: str = \"gene\",\n",
    "    value_name: str = \"expression\",\n",
    "    threshold: float = 0,\n",
    ") -> pl.DataFrame:\n",
    "    if add_sum:\n",
    "        df_sum = (\n",
    "            df.group_by(group_by)\n",
    "            .sum()\n",
    "            .unpivot(index=group_by, variable_name=variable_name, value_name=f\"sum_{value_name}\")\n",
    "        )\n",
    "    if add_mean:\n",
    "        df_mean = (\n",
    "            df.group_by(group_by)\n",
    "            .mean()\n",
    "            .unpivot(index=group_by, variable_name=variable_name, value_name=f\"mean_{value_name}\")\n",
    "        )\n",
    "    if add_percentage:\n",
    "        df_percentage = (\n",
    "            df.group_by(group_by)\n",
    "            .agg(\n",
    "                (pl.all().exclude(group_by).gt(threshold).sum() / pl.all().exclude(group_by).count()).mul(100)\n",
    "            )\n",
    "            .unpivot(\n",
    "                index=group_by, variable_name=variable_name, value_name=\"cell_percentage\"\n",
    "            )\n",
    "        )\n",
    "\n",
    "    frame = df_sum.join(df_mean, on=[group_by, variable_name]).join(\n",
    "        df_percentage, on=[group_by, variable_name]\n",
    "    )\n",
    "\n",
    "    # frame = frame.with_columns(pl.selectors.numeric().replace(0,None))\n",
    "\n",
    "    return frame"
   ]
  },
  {
   "cell_type": "code",
   "execution_count": 80,
   "metadata": {},
   "outputs": [],
   "source": [
    "def _make_dotplot(frame_dotplot, group_by, fraction_name=\"cell_percentage\", mean_name=\"mean_expression\",):\n",
    "    pct_min = frame_dotplot.select(fraction_name).min().item()\n",
    "    pct_max = frame_dotplot.select(fraction_name).max().item()\n",
    "    pct_lims = _range_inclusive(pct_min, pct_max, 5)\n",
    "\n",
    "    mean_min = frame_dotplot.select(mean_name).min().item()\n",
    "    mean_max = frame_dotplot.select(mean_name).max().item()\n",
    "    mean_lims = _range_inclusive(mean_min, mean_max, 5)\n",
    "\n",
    "    frame_dotplot = frame_dotplot.sort([group_by, mean_name],descending=True)\n",
    "    dtplt = (\n",
    "        ggplot(frame_dotplot)\n",
    "        + geom_point(aes(x=\"gene\", y=group_by, fill=mean_name, size=fraction_name),shape=21,color=\"#1f1f1f\",stroke=0.2)\n",
    "        + scale_fill_gradient(low=\"white\", high=\"red\",breaks=mean_lims)\n",
    "        + theme_classic()\n",
    "        + theme(\n",
    "            panel_border=element_rect(color=\"#1f1f1f\",size=1.5),\n",
    "            text = element_text(family=\"Arial\", color=\"#1f1f1f\"),\n",
    "            axis_text_x=element_text(angle=90),\n",
    "            axis_title=element_blank(),\n",
    "            legend_text=element_text(size=10),\n",
    "            legend_title=element_text(size=12),\n",
    "            legend_box_spacing=0,\n",
    "            legend_key_spacing_y=0,\n",
    "        )+ggsize(400,600)\n",
    "        #+ coord_fixed(ratio=1.5)\n",
    "        + guides(size=guide_legend(ncol=1))\n",
    "        + scale_size(breaks=pct_lims, range=[1,10])\n",
    "        + scale_y_discrete(expand=[0.05,0.05])\n",
    "        + scale_x_discrete(expand=[0.05,0.05])\n",
    "    )\n",
    "\n",
    "    return dtplt"
   ]
  },
  {
   "cell_type": "code",
   "execution_count": 81,
   "metadata": {},
   "outputs": [],
   "source": [
    "def dotplot(\n",
    "    data: AnnData,\n",
    "    keys: str | list[str] | Iterable[str],\n",
    "    group_by: str,\n",
    "    *,\n",
    "    color_low: str = \"#e6e6e6\",\n",
    "    color_high: str = \"#D2042D\",\n",
    "    threshold: float | None = None,\n",
    "    use_raw: bool = True,\n",
    "    show_tooltips: bool = True,\n",
    "    add_tooltips: list[str] | tuple[str] | Iterable[str] | None = None,\n",
    "    custom_tooltips: list[str] | tuple[str] | Iterable[str] | None = None,\n",
    "    **dotplot_kwargs: dict[str, Any],\n",
    ") -> PlotSpec:\n",
    "    # Handling Data types\n",
    "    if not isinstance(data, AnnData):\n",
    "        msg = \"data must be an `AnnData` object\"\n",
    "        raise TypeError(msg)\n",
    "    if not isinstance(keys, Iterable) and not isinstance(keys, str):\n",
    "        msg = \"keys must be an iterable or a string\"\n",
    "        raise TypeError(msg)\n",
    "    elif isinstance(keys, str):\n",
    "        keys = [keys]\n",
    "    if not isinstance(group_by, str):\n",
    "        msg = \"group_by must be a string\"\n",
    "        raise TypeError(msg)\n",
    "\n",
    "    else:\n",
    "        if \"tooltips\" in dotplot_kwargs:\n",
    "            msg = \"use tooltips args within the function instead of adding `'tooltips' : 'value'` to `dotplot_kwargs`\\n\"\n",
    "            raise KeyError(msg)\n",
    "\n",
    "    # handle tooltips\n",
    "    base_tooltips = []\n",
    "    if not show_tooltips:\n",
    "        tooltips = \"none\"  # for letsplot, this removes the tooltips\n",
    "    else:\n",
    "        if isinstance(custom_tooltips, Iterable):\n",
    "            tooltips = list(custom_tooltips)\n",
    "        elif isinstance(add_tooltips, Iterable):\n",
    "            tooltips = base_tooltips + list(add_tooltips)\n",
    "        else:\n",
    "            tooltips = base_tooltips\n",
    "\n",
    "    if use_raw:\n",
    "        matrix = data.raw.X.toarray()\n",
    "        if threshold is None:\n",
    "            threshold = 0\n",
    "    else:\n",
    "        matrix = data.X\n",
    "        if threshold is None:\n",
    "            threshold =  -10\n",
    "\n",
    "    # gene indexes for the AnnData.X\n",
    "    gene_indexes = data.var_names.get_indexer(keys)\n",
    "    frame = pl.from_numpy(matrix[:, gene_indexes], schema=keys)\n",
    "    frame = frame.with_columns(pl.Series(group_by, data.obs[group_by]))\n",
    "\n",
    "    frame_dotplot = _construct_dotplot_frame(frame, group_by)\n",
    "    dtplt = _make_dotplot(frame_dotplot, group_by, **dotplot_kwargs)\n",
    "\n",
    "\n",
    "    return dtplt"
   ]
  },
  {
   "cell_type": "code",
   "execution_count": 82,
   "metadata": {},
   "outputs": [],
   "source": [
    "keys = data.var_names[-10:].tolist()\n",
    "group_by = \"leiden\"\n",
    "gene_indexes = data.var_names.get_indexer(keys)"
   ]
  },
  {
   "cell_type": "code",
   "execution_count": 85,
   "metadata": {},
   "outputs": [
    {
     "data": {
      "text/html": [
       "   <div id=\"cpK54r\"></div>\n",
       "   <script type=\"text/javascript\" data-lets-plot-script=\"plot\">\n",
       "   \n",
       "   (function() {\n",
       "   // ----------\n",
       "   \n",
       "   var containerDiv = document.getElementById(\"cpK54r\");\n",
       "   var observer = new ResizeObserver(function(entries) {\n",
       "       for (let entry of entries) {\n",
       "           var width = containerDiv.clientWidth\n",
       "           if (entry.contentBoxSize && width > 0) {\n",
       "           \n",
       "               // Render plot\n",
       "               if (observer) {\n",
       "                   observer.disconnect();\n",
       "                   observer = null;\n",
       "               }\n",
       "\n",
       "               var plotSpec={\n",
       "\"data\":{\n",
       "\"leiden\":[\"19\",\"19\",\"19\",\"19\",\"19\",\"19\",\"19\",\"19\",\"19\",\"19\",\"18\",\"18\",\"18\",\"18\",\"18\",\"18\",\"18\",\"18\",\"18\",\"18\",\"17\",\"17\",\"17\",\"17\",\"17\",\"17\",\"17\",\"17\",\"17\",\"17\",\"16\",\"16\",\"16\",\"16\",\"16\",\"16\",\"16\",\"16\",\"16\",\"16\",\"15\",\"15\",\"15\",\"15\",\"15\",\"15\",\"15\",\"15\",\"15\",\"15\",\"14\",\"14\",\"14\",\"14\",\"14\",\"14\",\"14\",\"14\",\"14\",\"14\",\"13\",\"13\",\"13\",\"13\",\"13\",\"13\",\"13\",\"13\",\"13\",\"13\",\"12\",\"12\",\"12\",\"12\",\"12\",\"12\",\"12\",\"12\",\"12\",\"12\",\"11\",\"11\",\"11\",\"11\",\"11\",\"11\",\"11\",\"11\",\"11\",\"11\",\"10\",\"10\",\"10\",\"10\",\"10\",\"10\",\"10\",\"10\",\"10\",\"10\",\"9\",\"9\",\"9\",\"9\",\"9\",\"9\",\"9\",\"9\",\"9\",\"9\",\"8\",\"8\",\"8\",\"8\",\"8\",\"8\",\"8\",\"8\",\"8\",\"8\",\"7\",\"7\",\"7\",\"7\",\"7\",\"7\",\"7\",\"7\",\"7\",\"7\",\"6\",\"6\",\"6\",\"6\",\"6\",\"6\",\"6\",\"6\",\"6\",\"6\",\"5\",\"5\",\"5\",\"5\",\"5\",\"5\",\"5\",\"5\",\"5\",\"5\",\"4\",\"4\",\"4\",\"4\",\"4\",\"4\",\"4\",\"4\",\"4\",\"4\",\"3\",\"3\",\"3\",\"3\",\"3\",\"3\",\"3\",\"3\",\"3\",\"3\",\"2\",\"2\",\"2\",\"2\",\"2\",\"2\",\"2\",\"2\",\"2\",\"2\",\"1\",\"1\",\"1\",\"1\",\"1\",\"1\",\"1\",\"1\",\"1\",\"1\",\"0\",\"0\",\"0\",\"0\",\"0\",\"0\",\"0\",\"0\",\"0\",\"0\"],\n",
       "\"gene\":[\"AC244090.3\",\"MTCP1\",\"PRKY\",\"TTTY10\",\"TMLHE-AS1\",\"MT-ND5\",\"KDM5D\",\"MT-ND2\",\"PCDH11Y\",\"AC012078.2\",\"MTCP1\",\"AC012078.2\",\"TMLHE-AS1\",\"MT-ND2\",\"KDM5D\",\"TTTY10\",\"PRKY\",\"AC244090.3\",\"PCDH11Y\",\"MT-ND5\",\"PRKY\",\"AC244090.3\",\"TMLHE-AS1\",\"MTCP1\",\"AC012078.2\",\"KDM5D\",\"PCDH11Y\",\"TTTY10\",\"MT-ND2\",\"MT-ND5\",\"AC244090.3\",\"PRKY\",\"TTTY10\",\"TMLHE-AS1\",\"MTCP1\",\"KDM5D\",\"MT-ND2\",\"MT-ND5\",\"AC012078.2\",\"PCDH11Y\",\"PRKY\",\"MT-ND5\",\"KDM5D\",\"AC244090.3\",\"TMLHE-AS1\",\"TTTY10\",\"PCDH11Y\",\"MT-ND2\",\"MTCP1\",\"AC012078.2\",\"PRKY\",\"MTCP1\",\"KDM5D\",\"MT-ND5\",\"AC244090.3\",\"AC012078.2\",\"PCDH11Y\",\"TMLHE-AS1\",\"TTTY10\",\"MT-ND2\",\"PRKY\",\"MT-ND2\",\"AC244090.3\",\"MT-ND5\",\"KDM5D\",\"MTCP1\",\"AC012078.2\",\"PCDH11Y\",\"TTTY10\",\"TMLHE-AS1\",\"TTTY10\",\"MT-ND5\",\"MTCP1\",\"TMLHE-AS1\",\"PRKY\",\"KDM5D\",\"PCDH11Y\",\"AC012078.2\",\"MT-ND2\",\"AC244090.3\",\"TMLHE-AS1\",\"MT-ND2\",\"AC244090.3\",\"TTTY10\",\"KDM5D\",\"MTCP1\",\"MT-ND5\",\"PRKY\",\"PCDH11Y\",\"AC012078.2\",\"KDM5D\",\"MTCP1\",\"MT-ND5\",\"TMLHE-AS1\",\"PRKY\",\"MT-ND2\",\"AC012078.2\",\"PCDH11Y\",\"TTTY10\",\"AC244090.3\",\"TTTY10\",\"AC244090.3\",\"KDM5D\",\"PCDH11Y\",\"MTCP1\",\"TMLHE-AS1\",\"MT-ND2\",\"MT-ND5\",\"PRKY\",\"AC012078.2\",\"PRKY\",\"MT-ND2\",\"AC244090.3\",\"KDM5D\",\"TMLHE-AS1\",\"MTCP1\",\"MT-ND5\",\"AC012078.2\",\"TTTY10\",\"PCDH11Y\",\"PRKY\",\"AC244090.3\",\"MTCP1\",\"TTTY10\",\"AC012078.2\",\"MT-ND2\",\"PCDH11Y\",\"MT-ND5\",\"TMLHE-AS1\",\"KDM5D\",\"MTCP1\",\"KDM5D\",\"AC244090.3\",\"TTTY10\",\"PRKY\",\"AC012078.2\",\"PCDH11Y\",\"TMLHE-AS1\",\"MT-ND2\",\"MT-ND5\",\"PRKY\",\"TTTY10\",\"MT-ND2\",\"TMLHE-AS1\",\"MT-ND5\",\"KDM5D\",\"MTCP1\",\"AC012078.2\",\"PCDH11Y\",\"AC244090.3\",\"MT-ND5\",\"MT-ND2\",\"PRKY\",\"AC244090.3\",\"MTCP1\",\"AC012078.2\",\"PCDH11Y\",\"TTTY10\",\"KDM5D\",\"TMLHE-AS1\",\"KDM5D\",\"MTCP1\",\"MT-ND2\",\"AC244090.3\",\"AC012078.2\",\"PCDH11Y\",\"TTTY10\",\"PRKY\",\"MT-ND5\",\"TMLHE-AS1\",\"TMLHE-AS1\",\"MT-ND5\",\"MT-ND2\",\"AC012078.2\",\"PRKY\",\"KDM5D\",\"MTCP1\",\"AC244090.3\",\"PCDH11Y\",\"TTTY10\",\"TMLHE-AS1\",\"PRKY\",\"MTCP1\",\"AC244090.3\",\"TTTY10\",\"AC012078.2\",\"PCDH11Y\",\"MT-ND2\",\"KDM5D\",\"MT-ND5\",\"PRKY\",\"MTCP1\",\"AC012078.2\",\"TTTY10\",\"PCDH11Y\",\"MT-ND2\",\"MT-ND5\",\"TMLHE-AS1\",\"AC244090.3\",\"KDM5D\"],\n",
       "\"mean_expression\":[null,null,null,null,null,null,null,null,0.01639344262295082,0.01639344262295082,null,null,null,null,null,null,null,null,0.0392156862745098,0.00980392156862745,null,null,null,null,0.03937007874015748,0.03937007874015748,0.031496062992125984,0.023622047244094488,0.007874015748031496,0.007874015748031496,null,null,null,null,null,null,null,null,0.03806228373702422,0.0034602076124567475,null,null,null,null,null,null,null,null,null,0.00558659217877095,null,null,null,null,null,0.02284263959390863,0.01015228426395939,0.005076142131979695,0.0025380710659898475,0.0025380710659898475,null,null,null,null,null,null,0.009900990099009901,0.0049504950495049506,0.0024752475247524753,0.0024752475247524753,null,null,null,null,null,null,0.014527845036319613,0.007263922518159807,0.002421307506053269,0.002421307506053269,null,null,null,null,null,null,null,null,0.01762114537444934,0.015418502202643172,null,null,null,null,null,null,0.02826086956521739,0.017391304347826087,0.002173913043478261,0.002173913043478261,null,null,null,null,null,null,null,null,null,0.006289308176100629,null,null,null,null,null,null,null,0.005597014925373134,0.0037313432835820895,0.0018656716417910447,null,null,null,0.06431535269709543,0.022821576763485476,0.008298755186721992,0.005186721991701245,0.004149377593360996,0.0031120331950207467,0.0031120331950207467,null,null,null,null,null,0.017598343685300208,0.006211180124223602,0.0010351966873706005,0.0010351966873706005,0.0010351966873706005,null,null,null,null,null,null,null,0.025044722719141325,0.008050089445438283,8.944543828264759E-4,null,null,null,null,null,0.005063291139240506,0.002531645569620253,0.0016877637130801688,8.438818565400844E-4,8.438818565400844E-4,null,null,null,null,0.01227390180878553,0.00516795865633075,0.0012919896640826874,0.0012919896640826874,6.459948320413437E-4,6.459948320413437E-4,null,null,null,null,null,null,null,null,null,null,null,null,null,null,0.00899685110211426,0.005847953216374269,0.002249212775528565,0.001799370220422852,4.49842555105713E-4,4.49842555105713E-4,null,null,0.013850415512465374,0.011772853185595568,0.008310249307479225,0.004847645429362881,0.0017313019390581717,3.4626038781163435E-4,3.4626038781163435E-4,3.4626038781163435E-4],\n",
       "\"cell_percentage\":[null,null,null,null,null,null,null,null,1.639344262295082,1.639344262295082,null,null,null,null,null,null,null,null,3.9215686274509802,0.9803921568627451,null,null,null,null,3.937007874015748,0.7874015748031495,3.149606299212598,2.3622047244094486,0.7874015748031495,0.7874015748031495,null,null,null,null,null,null,null,null,3.8062283737024223,0.34602076124567477,null,null,null,null,null,null,null,null,null,0.5586592178770949,null,null,null,null,null,2.284263959390863,1.015228426395939,0.5076142131979695,0.25380710659898476,0.25380710659898476,null,null,null,null,null,null,0.9900990099009901,0.49504950495049505,0.24752475247524752,0.24752475247524752,null,null,null,null,null,null,1.4527845036319613,0.7263922518159807,0.24213075060532688,0.24213075060532688,null,null,null,null,null,null,null,null,1.762114537444934,1.3215859030837005,null,null,null,null,null,null,2.8260869565217392,1.7391304347826086,0.21739130434782608,0.21739130434782608,null,null,null,null,null,null,null,null,null,0.628930817610063,null,null,null,null,null,null,null,0.5597014925373134,0.3731343283582089,0.18656716417910446,null,null,null,5.7053941908713695,2.2821576763485476,0.8298755186721992,0.5186721991701244,0.3112033195020747,0.2074688796680498,0.3112033195020747,null,null,null,null,null,1.7598343685300208,0.6211180124223602,0.10351966873706005,0.10351966873706005,0.10351966873706005,null,null,null,null,null,null,null,2.3255813953488373,0.7155635062611807,0.08944543828264759,null,null,null,null,null,0.42194092827004215,0.25316455696202533,0.16877637130801687,0.08438818565400844,0.08438818565400844,null,null,null,null,1.227390180878553,0.516795865633075,0.06459948320413438,0.06459948320413438,0.06459948320413438,0.06459948320413438,null,null,null,null,null,null,null,null,null,null,null,null,null,null,0.8547008547008548,0.5847953216374269,0.22492127755285649,0.1799370220422852,0.0449842555105713,0.0449842555105713,null,null,1.3504155124653738,1.0041551246537395,0.7963988919667591,0.4501385041551247,0.17313019390581716,0.03462603878116344,0.03462603878116344,0.03462603878116344]\n",
       "},\n",
       "\"mapping\":{\n",
       "},\n",
       "\"data_meta\":{\n",
       "\"series_annotations\":[{\n",
       "\"type\":\"unknown(polars:Categorical(ordering='physical'))\",\n",
       "\"column\":\"leiden\"\n",
       "},{\n",
       "\"type\":\"str\",\n",
       "\"column\":\"gene\"\n",
       "},{\n",
       "\"type\":\"float\",\n",
       "\"column\":\"sum_expression\"\n",
       "},{\n",
       "\"type\":\"float\",\n",
       "\"column\":\"mean_expression\"\n",
       "},{\n",
       "\"type\":\"float\",\n",
       "\"column\":\"cell_percentage\"\n",
       "}]\n",
       "},\n",
       "\"theme\":{\n",
       "\"name\":\"classic\",\n",
       "\"text\":{\n",
       "\"color\":\"#1f1f1f\",\n",
       "\"family\":\"Arial\",\n",
       "\"blank\":false\n",
       "},\n",
       "\"axis_title\":{\n",
       "\"blank\":true\n",
       "},\n",
       "\"axis_text_x\":{\n",
       "\"angle\":90.0,\n",
       "\"blank\":false\n",
       "},\n",
       "\"legend_text\":{\n",
       "\"size\":10.0,\n",
       "\"blank\":false\n",
       "},\n",
       "\"legend_title\":{\n",
       "\"size\":12.0,\n",
       "\"blank\":false\n",
       "},\n",
       "\"legend_key_spacing_y\":0.0,\n",
       "\"legend_box_spacing\":0.0,\n",
       "\"panel_border\":{\n",
       "\"color\":\"#1f1f1f\",\n",
       "\"size\":1.5,\n",
       "\"blank\":false\n",
       "}\n",
       "},\n",
       "\"ggsize\":{\n",
       "\"width\":400.0,\n",
       "\"height\":600.0\n",
       "},\n",
       "\"guides\":{\n",
       "\"size\":{\n",
       "\"name\":\"legend\",\n",
       "\"ncol\":1.0\n",
       "}\n",
       "},\n",
       "\"kind\":\"plot\",\n",
       "\"scales\":[{\n",
       "\"aesthetic\":\"fill\",\n",
       "\"low\":\"white\",\n",
       "\"high\":\"red\",\n",
       "\"scale_mapper_kind\":\"color_gradient\"\n",
       "},{\n",
       "\"aesthetic\":\"size\",\n",
       "\"range\":[1.0,10.0]\n",
       "},{\n",
       "\"aesthetic\":\"y\",\n",
       "\"expand\":[0.05,0.05],\n",
       "\"discrete\":true,\n",
       "\"reverse\":false\n",
       "},{\n",
       "\"aesthetic\":\"x\",\n",
       "\"expand\":[0.05,0.05],\n",
       "\"discrete\":true,\n",
       "\"reverse\":false\n",
       "}],\n",
       "\"layers\":[{\n",
       "\"geom\":\"point\",\n",
       "\"mapping\":{\n",
       "\"x\":\"gene\",\n",
       "\"y\":\"leiden\",\n",
       "\"fill\":\"mean_expression\",\n",
       "\"size\":\"cell_percentage\"\n",
       "},\n",
       "\"data_meta\":{\n",
       "},\n",
       "\"shape\":21.0,\n",
       "\"color\":\"#1f1f1f\",\n",
       "\"stroke\":0.2,\n",
       "\"data\":{\n",
       "}\n",
       "}],\n",
       "\"metainfo_list\":[],\n",
       "\"spec_id\":\"10\"\n",
       "};\n",
       "               window.letsPlotCall(function() {\n",
       "       \n",
       "               var toolbar = null;\n",
       "               var plotContainer = containerDiv;               \n",
       "               \n",
       "                   var options = {\n",
       "                       sizing: {\n",
       "                           width_mode: \"min\",\n",
       "                           height_mode: \"scaled\",\n",
       "                           width: width\n",
       "                       }\n",
       "                   };\n",
       "                   var fig = LetsPlot.buildPlotFromProcessedSpecs(plotSpec, -1, -1, plotContainer, options);\n",
       "                   if (toolbar) {\n",
       "                     toolbar.bind(fig);\n",
       "                   }\n",
       "               });\n",
       "               \n",
       "               break;\n",
       "           }\n",
       "       }\n",
       "   });\n",
       "   \n",
       "   observer.observe(containerDiv);\n",
       "   \n",
       "   // ----------\n",
       "   })();\n",
       "   \n",
       "   </script>"
      ],
      "text/plain": [
       "<lets_plot.plot.core.PlotSpec at 0x18ce748b170>"
      ]
     },
     "execution_count": 85,
     "metadata": {},
     "output_type": "execute_result"
    }
   ],
   "source": [
    "frame = dotplot(data, keys, group_by, use_raw=True)\n",
    "frame"
   ]
  },
  {
   "cell_type": "code",
   "execution_count": 61,
   "metadata": {},
   "outputs": [
    {
     "data": {
      "image/png": "[encoded data removed]",
      "text/plain": [
       "<Figure size 520x800 with 4 Axes>"
      ]
     },
     "metadata": {},
     "output_type": "display_data"
    }
   ],
   "source": [
    "sc.pl.dotplot(data, keys, group_by)"
   ]
  },
  {
   "cell_type": "code",
   "execution_count": 62,
   "metadata": {},
   "outputs": [],
   "source": [
    "adict = {\n",
    "    \"a\": [1,0,3],\n",
    "    \"b\": [\"a\",\"b\",\"c\"],\n",
    "    \"c\": [0,0,0]\n",
    "}"
   ]
  },
  {
   "cell_type": "code",
   "execution_count": 64,
   "metadata": {},
   "outputs": [
    {
     "data": {
      "text/html": [
       "<div><style>\n",
       ".dataframe > thead > tr,\n",
       ".dataframe > tbody > tr {\n",
       "  text-align: right;\n",
       "  white-space: pre-wrap;\n",
       "}\n",
       "</style>\n",
       "<small>shape: (3, 3)</small><table border=\"1\" class=\"dataframe\"><thead><tr><th>a</th><th>b</th><th>c</th></tr><tr><td>i64</td><td>str</td><td>i64</td></tr></thead><tbody><tr><td>1</td><td>&quot;a&quot;</td><td>0</td></tr><tr><td>0</td><td>&quot;b&quot;</td><td>0</td></tr><tr><td>3</td><td>&quot;c&quot;</td><td>0</td></tr></tbody></table></div>"
      ],
      "text/plain": [
       "shape: (3, 3)\n",
       "┌─────┬─────┬─────┐\n",
       "│ a   ┆ b   ┆ c   │\n",
       "│ --- ┆ --- ┆ --- │\n",
       "│ i64 ┆ str ┆ i64 │\n",
       "╞═════╪═════╪═════╡\n",
       "│ 1   ┆ a   ┆ 0   │\n",
       "│ 0   ┆ b   ┆ 0   │\n",
       "│ 3   ┆ c   ┆ 0   │\n",
       "└─────┴─────┴─────┘"
      ]
     },
     "execution_count": 64,
     "metadata": {},
     "output_type": "execute_result"
    }
   ],
   "source": [
    "df = pl.DataFrame(adict)\n",
    "df"
   ]
  },
  {
   "cell_type": "code",
   "execution_count": null,
   "metadata": {},
   "outputs": [],
   "source": [
    "from polars import selectors as cs"
   ]
  },
  {
   "cell_type": "code",
   "execution_count": null,
   "metadata": {},
   "outputs": [],
   "source": [
    "cs"
   ]
  },
  {
   "cell_type": "code",
   "execution_count": 73,
   "metadata": {},
   "outputs": [
    {
     "data": {
      "text/html": [
       "<div><style>\n",
       ".dataframe > thead > tr,\n",
       ".dataframe > tbody > tr {\n",
       "  text-align: right;\n",
       "  white-space: pre-wrap;\n",
       "}\n",
       "</style>\n",
       "<small>shape: (3, 3)</small><table border=\"1\" class=\"dataframe\"><thead><tr><th>a</th><th>b</th><th>c</th></tr><tr><td>i64</td><td>str</td><td>i64</td></tr></thead><tbody><tr><td>1</td><td>&quot;a&quot;</td><td>null</td></tr><tr><td>null</td><td>&quot;b&quot;</td><td>null</td></tr><tr><td>3</td><td>&quot;c&quot;</td><td>null</td></tr></tbody></table></div>"
      ],
      "text/plain": [
       "shape: (3, 3)\n",
       "┌──────┬─────┬──────┐\n",
       "│ a    ┆ b   ┆ c    │\n",
       "│ ---  ┆ --- ┆ ---  │\n",
       "│ i64  ┆ str ┆ i64  │\n",
       "╞══════╪═════╪══════╡\n",
       "│ 1    ┆ a   ┆ null │\n",
       "│ null ┆ b   ┆ null │\n",
       "│ 3    ┆ c   ┆ null │\n",
       "└──────┴─────┴──────┘"
      ]
     },
     "execution_count": 73,
     "metadata": {},
     "output_type": "execute_result"
    }
   ],
   "source": [
    "df = df.with_columns(pl.all().replace(0,None))\n",
    "df"
   ]
  }
 ],
 "metadata": {
  "kernelspec": {
   "display_name": ".venv",
   "language": "python",
   "name": "python3"
  },
  "language_info": {
   "codemirror_mode": {
    "name": "ipython",
    "version": 3
   },
   "file_extension": ".py",
   "mimetype": "text/x-python",
   "name": "python",
   "nbconvert_exporter": "python",
   "pygments_lexer": "ipython3",
   "version": "3.12.8"
  }
 },
 "nbformat": 4,
 "nbformat_minor": 2
}
