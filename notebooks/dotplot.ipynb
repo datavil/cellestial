{
 "cells": [
  {
   "cell_type": "code",
   "execution_count": 79,
   "metadata": {},
   "outputs": [
    {
     "data": {
      "text/html": [
       "\n",
       "            <div id=\"Xw1dNR\"></div>\n",
       "            <script type=\"text/javascript\" data-lets-plot-script=\"library\">\n",
       "                if(!window.letsPlotCallQueue) {\n",
       "                    window.letsPlotCallQueue = [];\n",
       "                }; \n",
       "                window.letsPlotCall = function(f) {\n",
       "                    window.letsPlotCallQueue.push(f);\n",
       "                };\n",
       "                (function() {\n",
       "                    var script = document.createElement(\"script\");\n",
       "                    script.type = \"text/javascript\";\n",
       "                    script.src = \"https://cdn.jsdelivr.net/gh/JetBrains/lets-plot@v4.5.2/js-package/distr/lets-plot.min.js\";\n",
       "                    script.onload = function() {\n",
       "                        window.letsPlotCall = function(f) {f();};\n",
       "                        window.letsPlotCallQueue.forEach(function(f) {f();});\n",
       "                        window.letsPlotCallQueue = [];\n",
       "                        \n",
       "                    };\n",
       "                    script.onerror = function(event) {\n",
       "                        window.letsPlotCall = function(f) {};    // noop\n",
       "                        window.letsPlotCallQueue = [];\n",
       "                        var div = document.createElement(\"div\");\n",
       "                        div.style.color = 'darkred';\n",
       "                        div.textContent = 'Error loading Lets-Plot JS';\n",
       "                        document.getElementById(\"Xw1dNR\").appendChild(div);\n",
       "                    };\n",
       "                    var e = document.getElementById(\"Xw1dNR\");\n",
       "                    e.appendChild(script);\n",
       "                })()\n",
       "            </script>\n",
       "            "
      ]
     },
     "metadata": {},
     "output_type": "display_data"
    },
    {
     "name": "stderr",
     "output_type": "stream",
     "text": [
      "c:\\Users\\zafi_\\packages\\cellestial\\.venv\\Lib\\site-packages\\anndata\\_core\\anndata.py:1758: UserWarning: Observation names are not unique. To make them unique, call `.obs_names_make_unique`.\n",
      "  utils.warn_names_duplicates(\"obs\")\n"
     ]
    }
   ],
   "source": [
    "from __future__ import annotations\n",
    "\n",
    "from collections.abc import Iterable\n",
    "from typing import TYPE_CHECKING, Any, Literal\n",
    "\n",
    "import polars as pl\n",
    "import scanpy as sc\n",
    "from lets_plot import *\n",
    "\n",
    "import cellestial as cl\n",
    "\n",
    "LetsPlot.setup_html()\n",
    "data = sc.read(\"data/pbmc3k_pped.h5ad\")\n",
    "\n",
    "from lets_plot.plot.core import PlotSpec\n",
    "from scanpy import AnnData\n"
   ]
  },
  {
   "cell_type": "code",
   "execution_count": 80,
   "metadata": {},
   "outputs": [
    {
     "data": {
      "text/plain": [
       "Index(['AL390719.2', 'C1QTNF12', 'AL162741.1', 'LINC01786', 'AL391244.2',\n",
       "       'TMEM52', 'AL589739.1', 'PLCH2', 'AL513320.1', 'CHD5',\n",
       "       ...\n",
       "       'AC244090.3', 'MTCP1', 'TMLHE-AS1', 'AC012078.2', 'PCDH11Y', 'PRKY',\n",
       "       'KDM5D', 'TTTY10', 'MT-ND2', 'MT-ND5'],\n",
       "      dtype='object', length=2000)"
      ]
     },
     "execution_count": 80,
     "metadata": {},
     "output_type": "execute_result"
    }
   ],
   "source": [
    "data.var_names"
   ]
  },
  {
   "cell_type": "code",
   "execution_count": 81,
   "metadata": {},
   "outputs": [],
   "source": [
    "def dotplot(\n",
    "    data: AnnData,\n",
    "    keys: str | list[str] | Iterable[str],\n",
    "    group_by: str | list[str] | Iterable[str],\n",
    "    *,\n",
    "    color_low: str = \"#e6e6e6\",\n",
    "    color_high: str = \"#D2042D\",\n",
    "    use_raw: bool = True,\n",
    "    show_tooltips: bool = True,\n",
    "    add_tooltips: list[str] | tuple[str] | Iterable[str] | None = None,\n",
    "    custom_tooltips: list[str] | tuple[str] | Iterable[str] | None = None,\n",
    "    **dotplot_kwargs: dict[str, Any],\n",
    ") -> PlotSpec:\n",
    "    # Handling Data types\n",
    "    if not isinstance(data, AnnData):\n",
    "        msg = \"data must be an `AnnData` object\"\n",
    "        raise TypeError(msg)\n",
    "    if not isinstance(keys, Iterable) and not isinstance(keys, str):\n",
    "        msg = \"keys must be an iterable or a string\"\n",
    "        raise TypeError(msg)\n",
    "    elif isinstance(keys, str):\n",
    "        keys = [keys]\n",
    "    if not isinstance(group_by, Iterable) and isinstance(group_by, str):\n",
    "        msg = \"group_by must be an iterable or a string\"\n",
    "        raise TypeError(msg)\n",
    "    elif isinstance(group_by, str):\n",
    "        group_by = [group_by]\n",
    "\n",
    "    # handle dotplot_kwargs\n",
    "    if dotplot_kwargs is None:\n",
    "        dotplot_kwargs = {}\n",
    "    else:\n",
    "        if \"tooltips\" in dotplot_kwargs:\n",
    "            msg = \"use tooltips args within the function instead of adding `'tooltips' : 'value'` to `dotplot_kwargs`\\n\"\n",
    "            raise KeyError(msg)\n",
    "\n",
    "    # handle tooltips\n",
    "    base_tooltips = []\n",
    "    if not show_tooltips:\n",
    "        tooltips = \"none\"  # for letsplot, this removes the tooltips\n",
    "    else:\n",
    "        if isinstance(custom_tooltips, Iterable):\n",
    "            tooltips = list(custom_tooltips)\n",
    "        elif isinstance(add_tooltips, Iterable):\n",
    "            tooltips = base_tooltips + list(add_tooltips)\n",
    "        else:\n",
    "            tooltips = base_tooltips\n",
    "\n",
    "    if use_raw:\n",
    "        matrix = data.raw.X.toarray()\n",
    "    else:\n",
    "        matrix = data.X\n",
    "\n",
    "    # gene indexes for the AnnData.X\n",
    "    gene_indexes = data.var_names.get_indexer(keys)\n",
    "    frame = pl.from_numpy(matrix[:, gene_indexes], schema=keys)\n",
    "\n",
    "    for group in group_by:\n",
    "        frame = frame.with_columns(pl.Series(group, data.obs[group]))\n",
    "\n",
    "    return frame"
   ]
  },
  {
   "cell_type": "code",
   "execution_count": 103,
   "metadata": {},
   "outputs": [],
   "source": [
    "keys = [\"HBD\", \"NEAT1\", \"IGKC\"]\n",
    "groups = [\"leiden\", \"sample\"]\n",
    "gene_indexes = data.var_names.get_indexer(keys)"
   ]
  },
  {
   "cell_type": "code",
   "execution_count": 104,
   "metadata": {},
   "outputs": [
    {
     "data": {
      "text/html": [
       "<div><style>\n",
       ".dataframe > thead > tr,\n",
       ".dataframe > tbody > tr {\n",
       "  text-align: right;\n",
       "  white-space: pre-wrap;\n",
       "}\n",
       "</style>\n",
       "<small>shape: (16_680, 5)</small><table border=\"1\" class=\"dataframe\"><thead><tr><th>HBD</th><th>NEAT1</th><th>IGKC</th><th>leiden</th><th>sample</th></tr><tr><td>f32</td><td>f32</td><td>f32</td><td>cat</td><td>cat</td></tr></thead><tbody><tr><td>0.0</td><td>0.0</td><td>1.0</td><td>&quot;0&quot;</td><td>&quot;s1d1&quot;</td></tr><tr><td>0.0</td><td>0.0</td><td>0.0</td><td>&quot;10&quot;</td><td>&quot;s1d1&quot;</td></tr><tr><td>0.0</td><td>0.0</td><td>0.0</td><td>&quot;15&quot;</td><td>&quot;s1d1&quot;</td></tr><tr><td>0.0</td><td>0.0</td><td>0.0</td><td>&quot;17&quot;</td><td>&quot;s1d1&quot;</td></tr><tr><td>0.0</td><td>0.0</td><td>0.0</td><td>&quot;8&quot;</td><td>&quot;s1d1&quot;</td></tr><tr><td>&hellip;</td><td>&hellip;</td><td>&hellip;</td><td>&hellip;</td><td>&hellip;</td></tr><tr><td>0.0</td><td>0.0</td><td>0.0</td><td>&quot;8&quot;</td><td>&quot;s1d3&quot;</td></tr><tr><td>0.0</td><td>0.0</td><td>0.0</td><td>&quot;16&quot;</td><td>&quot;s1d3&quot;</td></tr><tr><td>0.0</td><td>0.0</td><td>0.0</td><td>&quot;5&quot;</td><td>&quot;s1d3&quot;</td></tr><tr><td>0.0</td><td>0.0</td><td>0.0</td><td>&quot;1&quot;</td><td>&quot;s1d3&quot;</td></tr><tr><td>0.0</td><td>0.0</td><td>0.0</td><td>&quot;0&quot;</td><td>&quot;s1d3&quot;</td></tr></tbody></table></div>"
      ],
      "text/plain": [
       "shape: (16_680, 5)\n",
       "┌─────┬───────┬──────┬────────┬────────┐\n",
       "│ HBD ┆ NEAT1 ┆ IGKC ┆ leiden ┆ sample │\n",
       "│ --- ┆ ---   ┆ ---  ┆ ---    ┆ ---    │\n",
       "│ f32 ┆ f32   ┆ f32  ┆ cat    ┆ cat    │\n",
       "╞═════╪═══════╪══════╪════════╪════════╡\n",
       "│ 0.0 ┆ 0.0   ┆ 1.0  ┆ 0      ┆ s1d1   │\n",
       "│ 0.0 ┆ 0.0   ┆ 0.0  ┆ 10     ┆ s1d1   │\n",
       "│ 0.0 ┆ 0.0   ┆ 0.0  ┆ 15     ┆ s1d1   │\n",
       "│ 0.0 ┆ 0.0   ┆ 0.0  ┆ 17     ┆ s1d1   │\n",
       "│ 0.0 ┆ 0.0   ┆ 0.0  ┆ 8      ┆ s1d1   │\n",
       "│ …   ┆ …     ┆ …    ┆ …      ┆ …      │\n",
       "│ 0.0 ┆ 0.0   ┆ 0.0  ┆ 8      ┆ s1d3   │\n",
       "│ 0.0 ┆ 0.0   ┆ 0.0  ┆ 16     ┆ s1d3   │\n",
       "│ 0.0 ┆ 0.0   ┆ 0.0  ┆ 5      ┆ s1d3   │\n",
       "│ 0.0 ┆ 0.0   ┆ 0.0  ┆ 1      ┆ s1d3   │\n",
       "│ 0.0 ┆ 0.0   ┆ 0.0  ┆ 0      ┆ s1d3   │\n",
       "└─────┴───────┴──────┴────────┴────────┘"
      ]
     },
     "execution_count": 104,
     "metadata": {},
     "output_type": "execute_result"
    }
   ],
   "source": [
    "frame = dotplot(data, keys, groups)\n",
    "frame"
   ]
  },
  {
   "cell_type": "code",
   "execution_count": 106,
   "metadata": {},
   "outputs": [
    {
     "data": {
      "text/html": [
       "<div><style>\n",
       ".dataframe > thead > tr,\n",
       ".dataframe > tbody > tr {\n",
       "  text-align: right;\n",
       "  white-space: pre-wrap;\n",
       "}\n",
       "</style>\n",
       "<small>shape: (50_040, 4)</small><table border=\"1\" class=\"dataframe\"><thead><tr><th>leiden</th><th>sample</th><th>gene</th><th>expression</th></tr><tr><td>cat</td><td>cat</td><td>str</td><td>f32</td></tr></thead><tbody><tr><td>&quot;0&quot;</td><td>&quot;s1d1&quot;</td><td>&quot;HBD&quot;</td><td>0.0</td></tr><tr><td>&quot;10&quot;</td><td>&quot;s1d1&quot;</td><td>&quot;HBD&quot;</td><td>0.0</td></tr><tr><td>&quot;15&quot;</td><td>&quot;s1d1&quot;</td><td>&quot;HBD&quot;</td><td>0.0</td></tr><tr><td>&quot;17&quot;</td><td>&quot;s1d1&quot;</td><td>&quot;HBD&quot;</td><td>0.0</td></tr><tr><td>&quot;8&quot;</td><td>&quot;s1d1&quot;</td><td>&quot;HBD&quot;</td><td>0.0</td></tr><tr><td>&hellip;</td><td>&hellip;</td><td>&hellip;</td><td>&hellip;</td></tr><tr><td>&quot;8&quot;</td><td>&quot;s1d3&quot;</td><td>&quot;IGKC&quot;</td><td>0.0</td></tr><tr><td>&quot;16&quot;</td><td>&quot;s1d3&quot;</td><td>&quot;IGKC&quot;</td><td>0.0</td></tr><tr><td>&quot;5&quot;</td><td>&quot;s1d3&quot;</td><td>&quot;IGKC&quot;</td><td>0.0</td></tr><tr><td>&quot;1&quot;</td><td>&quot;s1d3&quot;</td><td>&quot;IGKC&quot;</td><td>0.0</td></tr><tr><td>&quot;0&quot;</td><td>&quot;s1d3&quot;</td><td>&quot;IGKC&quot;</td><td>0.0</td></tr></tbody></table></div>"
      ],
      "text/plain": [
       "shape: (50_040, 4)\n",
       "┌────────┬────────┬──────┬────────────┐\n",
       "│ leiden ┆ sample ┆ gene ┆ expression │\n",
       "│ ---    ┆ ---    ┆ ---  ┆ ---        │\n",
       "│ cat    ┆ cat    ┆ str  ┆ f32        │\n",
       "╞════════╪════════╪══════╪════════════╡\n",
       "│ 0      ┆ s1d1   ┆ HBD  ┆ 0.0        │\n",
       "│ 10     ┆ s1d1   ┆ HBD  ┆ 0.0        │\n",
       "│ 15     ┆ s1d1   ┆ HBD  ┆ 0.0        │\n",
       "│ 17     ┆ s1d1   ┆ HBD  ┆ 0.0        │\n",
       "│ 8      ┆ s1d1   ┆ HBD  ┆ 0.0        │\n",
       "│ …      ┆ …      ┆ …    ┆ …          │\n",
       "│ 8      ┆ s1d3   ┆ IGKC ┆ 0.0        │\n",
       "│ 16     ┆ s1d3   ┆ IGKC ┆ 0.0        │\n",
       "│ 5      ┆ s1d3   ┆ IGKC ┆ 0.0        │\n",
       "│ 1      ┆ s1d3   ┆ IGKC ┆ 0.0        │\n",
       "│ 0      ┆ s1d3   ┆ IGKC ┆ 0.0        │\n",
       "└────────┴────────┴──────┴────────────┘"
      ]
     },
     "execution_count": 106,
     "metadata": {},
     "output_type": "execute_result"
    }
   ],
   "source": [
    "frameM = frame.unpivot(index=groups, variable_name=\"gene\", value_name=\"expression\")\n",
    "frameM\n"
   ]
  },
  {
   "cell_type": "code",
   "execution_count": 112,
   "metadata": {},
   "outputs": [
    {
     "data": {
      "text/html": [
       "<div><style>\n",
       ".dataframe > thead > tr,\n",
       ".dataframe > tbody > tr {\n",
       "  text-align: right;\n",
       "  white-space: pre-wrap;\n",
       "}\n",
       "</style>\n",
       "<small>shape: (40, 5)</small><table border=\"1\" class=\"dataframe\"><thead><tr><th>leiden</th><th>sample</th><th>HBD</th><th>NEAT1</th><th>IGKC</th></tr><tr><td>cat</td><td>cat</td><td>f32</td><td>f32</td><td>f32</td></tr></thead><tbody><tr><td>&quot;17&quot;</td><td>&quot;s1d3&quot;</td><td>1.0</td><td>0.0</td><td>33.0</td></tr><tr><td>&quot;1&quot;</td><td>&quot;s1d3&quot;</td><td>1.0</td><td>0.0</td><td>34.0</td></tr><tr><td>&quot;8&quot;</td><td>&quot;s1d1&quot;</td><td>0.0</td><td>0.0</td><td>13.0</td></tr><tr><td>&quot;16&quot;</td><td>&quot;s1d1&quot;</td><td>0.0</td><td>0.0</td><td>81.0</td></tr><tr><td>&quot;14&quot;</td><td>&quot;s1d3&quot;</td><td>0.0</td><td>0.0</td><td>48.0</td></tr><tr><td>&hellip;</td><td>&hellip;</td><td>&hellip;</td><td>&hellip;</td><td>&hellip;</td></tr><tr><td>&quot;19&quot;</td><td>&quot;s1d1&quot;</td><td>0.0</td><td>0.0</td><td>1.0</td></tr><tr><td>&quot;2&quot;</td><td>&quot;s1d1&quot;</td><td>2.0</td><td>0.0</td><td>11.0</td></tr><tr><td>&quot;5&quot;</td><td>&quot;s1d1&quot;</td><td>2.0</td><td>0.0</td><td>449.0</td></tr><tr><td>&quot;4&quot;</td><td>&quot;s1d3&quot;</td><td>0.0</td><td>0.0</td><td>187.0</td></tr><tr><td>&quot;12&quot;</td><td>&quot;s1d1&quot;</td><td>0.0</td><td>0.0</td><td>30.0</td></tr></tbody></table></div>"
      ],
      "text/plain": [
       "shape: (40, 5)\n",
       "┌────────┬────────┬─────┬───────┬───────┐\n",
       "│ leiden ┆ sample ┆ HBD ┆ NEAT1 ┆ IGKC  │\n",
       "│ ---    ┆ ---    ┆ --- ┆ ---   ┆ ---   │\n",
       "│ cat    ┆ cat    ┆ f32 ┆ f32   ┆ f32   │\n",
       "╞════════╪════════╪═════╪═══════╪═══════╡\n",
       "│ 17     ┆ s1d3   ┆ 1.0 ┆ 0.0   ┆ 33.0  │\n",
       "│ 1      ┆ s1d3   ┆ 1.0 ┆ 0.0   ┆ 34.0  │\n",
       "│ 8      ┆ s1d1   ┆ 0.0 ┆ 0.0   ┆ 13.0  │\n",
       "│ 16     ┆ s1d1   ┆ 0.0 ┆ 0.0   ┆ 81.0  │\n",
       "│ 14     ┆ s1d3   ┆ 0.0 ┆ 0.0   ┆ 48.0  │\n",
       "│ …      ┆ …      ┆ …   ┆ …     ┆ …     │\n",
       "│ 19     ┆ s1d1   ┆ 0.0 ┆ 0.0   ┆ 1.0   │\n",
       "│ 2      ┆ s1d1   ┆ 2.0 ┆ 0.0   ┆ 11.0  │\n",
       "│ 5      ┆ s1d1   ┆ 2.0 ┆ 0.0   ┆ 449.0 │\n",
       "│ 4      ┆ s1d3   ┆ 0.0 ┆ 0.0   ┆ 187.0 │\n",
       "│ 12     ┆ s1d1   ┆ 0.0 ┆ 0.0   ┆ 30.0  │\n",
       "└────────┴────────┴─────┴───────┴───────┘"
      ]
     },
     "execution_count": 112,
     "metadata": {},
     "output_type": "execute_result"
    }
   ],
   "source": [
    "frame.group_by(groups).sum()"
   ]
  },
  {
   "cell_type": "code",
   "execution_count": 130,
   "metadata": {},
   "outputs": [
    {
     "data": {
      "text/html": [
       "<div><style>\n",
       ".dataframe > thead > tr,\n",
       ".dataframe > tbody > tr {\n",
       "  text-align: right;\n",
       "  white-space: pre-wrap;\n",
       "}\n",
       "</style>\n",
       "<small>shape: (2, 5)</small><table border=\"1\" class=\"dataframe\"><thead><tr><th>sample</th><th>HBD</th><th>NEAT1</th><th>IGKC</th><th>leiden</th></tr><tr><td>cat</td><td>f32</td><td>f32</td><td>f32</td><td>cat</td></tr></thead><tbody><tr><td>&quot;s1d1&quot;</td><td>0.001416</td><td>0.0</td><td>0.221829</td><td>null</td></tr><tr><td>&quot;s1d3&quot;</td><td>0.001097</td><td>0.0</td><td>0.223522</td><td>null</td></tr></tbody></table></div>"
      ],
      "text/plain": [
       "shape: (2, 5)\n",
       "┌────────┬──────────┬───────┬──────────┬────────┐\n",
       "│ sample ┆ HBD      ┆ NEAT1 ┆ IGKC     ┆ leiden │\n",
       "│ ---    ┆ ---      ┆ ---   ┆ ---      ┆ ---    │\n",
       "│ cat    ┆ f32      ┆ f32   ┆ f32      ┆ cat    │\n",
       "╞════════╪══════════╪═══════╪══════════╪════════╡\n",
       "│ s1d1   ┆ 0.001416 ┆ 0.0   ┆ 0.221829 ┆ null   │\n",
       "│ s1d3   ┆ 0.001097 ┆ 0.0   ┆ 0.223522 ┆ null   │\n",
       "└────────┴──────────┴───────┴──────────┴────────┘"
      ]
     },
     "execution_count": 130,
     "metadata": {},
     "output_type": "execute_result"
    }
   ],
   "source": [
    "frame.group_by(\"sample\").mean()"
   ]
  },
  {
   "cell_type": "code",
   "execution_count": 123,
   "metadata": {},
   "outputs": [
    {
     "data": {
      "text/html": [
       "<div>\n",
       "<style scoped>\n",
       "    .dataframe tbody tr th:only-of-type {\n",
       "        vertical-align: middle;\n",
       "    }\n",
       "\n",
       "    .dataframe tbody tr th {\n",
       "        vertical-align: top;\n",
       "    }\n",
       "\n",
       "    .dataframe thead th {\n",
       "        text-align: right;\n",
       "    }\n",
       "</style>\n",
       "<table border=\"1\" class=\"dataframe\">\n",
       "  <thead>\n",
       "    <tr style=\"text-align: right;\">\n",
       "      <th></th>\n",
       "      <th>mt</th>\n",
       "      <th>ribo</th>\n",
       "      <th>hb</th>\n",
       "      <th>n_cells_by_counts</th>\n",
       "      <th>mean_counts</th>\n",
       "      <th>log1p_mean_counts</th>\n",
       "      <th>pct_dropout_by_counts</th>\n",
       "      <th>total_counts</th>\n",
       "      <th>log1p_total_counts</th>\n",
       "      <th>n_cells</th>\n",
       "      <th>highly_variable</th>\n",
       "      <th>means</th>\n",
       "      <th>dispersions</th>\n",
       "      <th>dispersions_norm</th>\n",
       "      <th>mean</th>\n",
       "      <th>std</th>\n",
       "    </tr>\n",
       "  </thead>\n",
       "  <tbody>\n",
       "    <tr>\n",
       "      <th>AL390719.2</th>\n",
       "      <td>False</td>\n",
       "      <td>False</td>\n",
       "      <td>False</td>\n",
       "      <td>5</td>\n",
       "      <td>0.000292</td>\n",
       "      <td>0.000292</td>\n",
       "      <td>99.970803</td>\n",
       "      <td>5.0</td>\n",
       "      <td>1.791759</td>\n",
       "      <td>5</td>\n",
       "      <td>True</td>\n",
       "      <td>0.001001</td>\n",
       "      <td>1.840088</td>\n",
       "      <td>1.211725</td>\n",
       "      <td>0.000380</td>\n",
       "      <td>0.024219</td>\n",
       "    </tr>\n",
       "    <tr>\n",
       "      <th>C1QTNF12</th>\n",
       "      <td>False</td>\n",
       "      <td>False</td>\n",
       "      <td>False</td>\n",
       "      <td>62</td>\n",
       "      <td>0.003737</td>\n",
       "      <td>0.003730</td>\n",
       "      <td>99.637956</td>\n",
       "      <td>64.0</td>\n",
       "      <td>4.174387</td>\n",
       "      <td>62</td>\n",
       "      <td>True</td>\n",
       "      <td>0.008604</td>\n",
       "      <td>1.871498</td>\n",
       "      <td>1.274180</td>\n",
       "      <td>0.003594</td>\n",
       "      <td>0.069648</td>\n",
       "    </tr>\n",
       "    <tr>\n",
       "      <th>AL162741.1</th>\n",
       "      <td>False</td>\n",
       "      <td>False</td>\n",
       "      <td>False</td>\n",
       "      <td>26</td>\n",
       "      <td>0.001518</td>\n",
       "      <td>0.001517</td>\n",
       "      <td>99.848175</td>\n",
       "      <td>26.0</td>\n",
       "      <td>3.295837</td>\n",
       "      <td>26</td>\n",
       "      <td>True</td>\n",
       "      <td>0.003878</td>\n",
       "      <td>1.944082</td>\n",
       "      <td>1.418505</td>\n",
       "      <td>0.001503</td>\n",
       "      <td>0.046608</td>\n",
       "    </tr>\n",
       "    <tr>\n",
       "      <th>LINC01786</th>\n",
       "      <td>False</td>\n",
       "      <td>False</td>\n",
       "      <td>False</td>\n",
       "      <td>23</td>\n",
       "      <td>0.001343</td>\n",
       "      <td>0.001342</td>\n",
       "      <td>99.865693</td>\n",
       "      <td>23.0</td>\n",
       "      <td>3.178054</td>\n",
       "      <td>23</td>\n",
       "      <td>True</td>\n",
       "      <td>0.004039</td>\n",
       "      <td>1.990555</td>\n",
       "      <td>1.510911</td>\n",
       "      <td>0.001524</td>\n",
       "      <td>0.047831</td>\n",
       "    </tr>\n",
       "    <tr>\n",
       "      <th>AL391244.2</th>\n",
       "      <td>False</td>\n",
       "      <td>False</td>\n",
       "      <td>False</td>\n",
       "      <td>73</td>\n",
       "      <td>0.004438</td>\n",
       "      <td>0.004428</td>\n",
       "      <td>99.573723</td>\n",
       "      <td>76.0</td>\n",
       "      <td>4.343805</td>\n",
       "      <td>73</td>\n",
       "      <td>True</td>\n",
       "      <td>0.008619</td>\n",
       "      <td>1.879800</td>\n",
       "      <td>1.290687</td>\n",
       "      <td>0.003630</td>\n",
       "      <td>0.068932</td>\n",
       "    </tr>\n",
       "    <tr>\n",
       "      <th>...</th>\n",
       "      <td>...</td>\n",
       "      <td>...</td>\n",
       "      <td>...</td>\n",
       "      <td>...</td>\n",
       "      <td>...</td>\n",
       "      <td>...</td>\n",
       "      <td>...</td>\n",
       "      <td>...</td>\n",
       "      <td>...</td>\n",
       "      <td>...</td>\n",
       "      <td>...</td>\n",
       "      <td>...</td>\n",
       "      <td>...</td>\n",
       "      <td>...</td>\n",
       "      <td>...</td>\n",
       "      <td>...</td>\n",
       "    </tr>\n",
       "    <tr>\n",
       "      <th>PRKY</th>\n",
       "      <td>False</td>\n",
       "      <td>False</td>\n",
       "      <td>False</td>\n",
       "      <td>2294</td>\n",
       "      <td>0.165139</td>\n",
       "      <td>0.152840</td>\n",
       "      <td>86.604380</td>\n",
       "      <td>2828.0</td>\n",
       "      <td>7.947679</td>\n",
       "      <td>2289</td>\n",
       "      <td>True</td>\n",
       "      <td>0.346883</td>\n",
       "      <td>1.815441</td>\n",
       "      <td>1.162716</td>\n",
       "      <td>0.162510</td>\n",
       "      <td>0.463308</td>\n",
       "    </tr>\n",
       "    <tr>\n",
       "      <th>KDM5D</th>\n",
       "      <td>False</td>\n",
       "      <td>False</td>\n",
       "      <td>False</td>\n",
       "      <td>2030</td>\n",
       "      <td>0.140438</td>\n",
       "      <td>0.131412</td>\n",
       "      <td>88.145985</td>\n",
       "      <td>2405.0</td>\n",
       "      <td>7.785721</td>\n",
       "      <td>2028</td>\n",
       "      <td>True</td>\n",
       "      <td>0.283985</td>\n",
       "      <td>1.810605</td>\n",
       "      <td>1.153101</td>\n",
       "      <td>0.131121</td>\n",
       "      <td>0.414425</td>\n",
       "    </tr>\n",
       "    <tr>\n",
       "      <th>TTTY10</th>\n",
       "      <td>False</td>\n",
       "      <td>False</td>\n",
       "      <td>False</td>\n",
       "      <td>265</td>\n",
       "      <td>0.016876</td>\n",
       "      <td>0.016735</td>\n",
       "      <td>98.452555</td>\n",
       "      <td>289.0</td>\n",
       "      <td>5.669881</td>\n",
       "      <td>265</td>\n",
       "      <td>True</td>\n",
       "      <td>0.033677</td>\n",
       "      <td>1.812069</td>\n",
       "      <td>1.156013</td>\n",
       "      <td>0.014633</td>\n",
       "      <td>0.137948</td>\n",
       "    </tr>\n",
       "    <tr>\n",
       "      <th>MT-ND2</th>\n",
       "      <td>True</td>\n",
       "      <td>False</td>\n",
       "      <td>False</td>\n",
       "      <td>16324</td>\n",
       "      <td>23.342249</td>\n",
       "      <td>3.192214</td>\n",
       "      <td>4.677372</td>\n",
       "      <td>399736.0</td>\n",
       "      <td>12.898562</td>\n",
       "      <td>15951</td>\n",
       "      <td>True</td>\n",
       "      <td>3.988345</td>\n",
       "      <td>4.379118</td>\n",
       "      <td>1.680991</td>\n",
       "      <td>3.313847</td>\n",
       "      <td>1.351333</td>\n",
       "    </tr>\n",
       "    <tr>\n",
       "      <th>MT-ND5</th>\n",
       "      <td>True</td>\n",
       "      <td>False</td>\n",
       "      <td>False</td>\n",
       "      <td>16326</td>\n",
       "      <td>11.693373</td>\n",
       "      <td>2.541080</td>\n",
       "      <td>4.665693</td>\n",
       "      <td>200249.0</td>\n",
       "      <td>12.207322</td>\n",
       "      <td>15948</td>\n",
       "      <td>True</td>\n",
       "      <td>3.307066</td>\n",
       "      <td>3.816033</td>\n",
       "      <td>1.431478</td>\n",
       "      <td>2.701769</td>\n",
       "      <td>1.173420</td>\n",
       "    </tr>\n",
       "  </tbody>\n",
       "</table>\n",
       "<p>2000 rows × 16 columns</p>\n",
       "</div>"
      ],
      "text/plain": [
       "               mt   ribo     hb  n_cells_by_counts  mean_counts  \\\n",
       "AL390719.2  False  False  False                  5     0.000292   \n",
       "C1QTNF12    False  False  False                 62     0.003737   \n",
       "AL162741.1  False  False  False                 26     0.001518   \n",
       "LINC01786   False  False  False                 23     0.001343   \n",
       "AL391244.2  False  False  False                 73     0.004438   \n",
       "...           ...    ...    ...                ...          ...   \n",
       "PRKY        False  False  False               2294     0.165139   \n",
       "KDM5D       False  False  False               2030     0.140438   \n",
       "TTTY10      False  False  False                265     0.016876   \n",
       "MT-ND2       True  False  False              16324    23.342249   \n",
       "MT-ND5       True  False  False              16326    11.693373   \n",
       "\n",
       "            log1p_mean_counts  pct_dropout_by_counts  total_counts  \\\n",
       "AL390719.2           0.000292              99.970803           5.0   \n",
       "C1QTNF12             0.003730              99.637956          64.0   \n",
       "AL162741.1           0.001517              99.848175          26.0   \n",
       "LINC01786            0.001342              99.865693          23.0   \n",
       "AL391244.2           0.004428              99.573723          76.0   \n",
       "...                       ...                    ...           ...   \n",
       "PRKY                 0.152840              86.604380        2828.0   \n",
       "KDM5D                0.131412              88.145985        2405.0   \n",
       "TTTY10               0.016735              98.452555         289.0   \n",
       "MT-ND2               3.192214               4.677372      399736.0   \n",
       "MT-ND5               2.541080               4.665693      200249.0   \n",
       "\n",
       "            log1p_total_counts  n_cells  highly_variable     means  \\\n",
       "AL390719.2            1.791759        5             True  0.001001   \n",
       "C1QTNF12              4.174387       62             True  0.008604   \n",
       "AL162741.1            3.295837       26             True  0.003878   \n",
       "LINC01786             3.178054       23             True  0.004039   \n",
       "AL391244.2            4.343805       73             True  0.008619   \n",
       "...                        ...      ...              ...       ...   \n",
       "PRKY                  7.947679     2289             True  0.346883   \n",
       "KDM5D                 7.785721     2028             True  0.283985   \n",
       "TTTY10                5.669881      265             True  0.033677   \n",
       "MT-ND2               12.898562    15951             True  3.988345   \n",
       "MT-ND5               12.207322    15948             True  3.307066   \n",
       "\n",
       "            dispersions  dispersions_norm      mean       std  \n",
       "AL390719.2     1.840088          1.211725  0.000380  0.024219  \n",
       "C1QTNF12       1.871498          1.274180  0.003594  0.069648  \n",
       "AL162741.1     1.944082          1.418505  0.001503  0.046608  \n",
       "LINC01786      1.990555          1.510911  0.001524  0.047831  \n",
       "AL391244.2     1.879800          1.290687  0.003630  0.068932  \n",
       "...                 ...               ...       ...       ...  \n",
       "PRKY           1.815441          1.162716  0.162510  0.463308  \n",
       "KDM5D          1.810605          1.153101  0.131121  0.414425  \n",
       "TTTY10         1.812069          1.156013  0.014633  0.137948  \n",
       "MT-ND2         4.379118          1.680991  3.313847  1.351333  \n",
       "MT-ND5         3.816033          1.431478  2.701769  1.173420  \n",
       "\n",
       "[2000 rows x 16 columns]"
      ]
     },
     "execution_count": 123,
     "metadata": {},
     "output_type": "execute_result"
    }
   ],
   "source": [
    "data.var"
   ]
  },
  {
   "cell_type": "code",
   "execution_count": 125,
   "metadata": {},
   "outputs": [],
   "source": [
    "keys = data.var_names[data.var[\"highly_variable\"]][:10]"
   ]
  },
  {
   "cell_type": "code",
   "execution_count": 133,
   "metadata": {},
   "outputs": [
    {
     "data": {
      "text/plain": [
       "['AL390719.2',\n",
       " 'C1QTNF12',\n",
       " 'AL162741.1',\n",
       " 'LINC01786',\n",
       " 'AL391244.2',\n",
       " 'TMEM52',\n",
       " 'AL589739.1',\n",
       " 'PLCH2',\n",
       " 'AL513320.1',\n",
       " 'CHD5']"
      ]
     },
     "execution_count": 133,
     "metadata": {},
     "output_type": "execute_result"
    }
   ],
   "source": [
    "list(keys)"
   ]
  },
  {
   "cell_type": "code",
   "execution_count": 127,
   "metadata": {},
   "outputs": [
    {
     "data": {
      "image/png": "[encoded data removed]",
      "text/plain": [
       "<Figure size 520x250 with 4 Axes>"
      ]
     },
     "metadata": {},
     "output_type": "display_data"
    }
   ],
   "source": [
    "sc.pl.dotplot(data, keys, \"sample\")"
   ]
  },
  {
   "cell_type": "code",
   "execution_count": 136,
   "metadata": {},
   "outputs": [
    {
     "data": {
      "text/plain": [
       "array([0, 1, 2, 3, 4, 5, 6, 7, 8, 9])"
      ]
     },
     "execution_count": 136,
     "metadata": {},
     "output_type": "execute_result"
    }
   ],
   "source": [
    "matrix = data.raw.X.toarray()\n",
    "\n",
    "# gene indexes for the AnnData.X\n",
    "gene_indexes = data.var_names.get_indexer(keys)\n",
    "gene_indexes\n"
   ]
  },
  {
   "cell_type": "code",
   "execution_count": 139,
   "metadata": {},
   "outputs": [
    {
     "data": {
      "text/plain": [
       "Index(['AL390719.2', 'C1QTNF12', 'AL162741.1', 'LINC01786', 'AL391244.2',\n",
       "       'TMEM52', 'AL589739.1', 'PLCH2', 'AL513320.1', 'CHD5'],\n",
       "      dtype='object')"
      ]
     },
     "execution_count": 139,
     "metadata": {},
     "output_type": "execute_result"
    }
   ],
   "source": [
    "keys"
   ]
  },
  {
   "cell_type": "code",
   "execution_count": 164,
   "metadata": {},
   "outputs": [],
   "source": [
    "keys = data.var.sort_values(\"n_cells_by_counts\", ascending=False).head(10).index.to_list()"
   ]
  },
  {
   "cell_type": "code",
   "execution_count": 170,
   "metadata": {},
   "outputs": [
    {
     "data": {
      "text/html": [
       "<div><style>\n",
       ".dataframe > thead > tr,\n",
       ".dataframe > tbody > tr {\n",
       "  text-align: right;\n",
       "  white-space: pre-wrap;\n",
       "}\n",
       "</style>\n",
       "<small>shape: (16_680, 10)</small><table border=\"1\" class=\"dataframe\"><thead><tr><th>MTRNR2L12</th><th>MT-ND5</th><th>MT-ND2</th><th>HBA1</th><th>RPS29</th><th>RPL32</th><th>RPL30</th><th>RPL34</th><th>TMSB4X</th><th>NEAT1</th></tr><tr><td>f32</td><td>f32</td><td>f32</td><td>f32</td><td>f32</td><td>f32</td><td>f32</td><td>f32</td><td>f32</td><td>f32</td></tr></thead><tbody><tr><td>0.0</td><td>0.0</td><td>0.0</td><td>0.0</td><td>0.0</td><td>0.0</td><td>0.0</td><td>0.0</td><td>0.0</td><td>0.0</td></tr><tr><td>0.0</td><td>0.0</td><td>0.0</td><td>0.0</td><td>0.0</td><td>0.0</td><td>0.0</td><td>0.0</td><td>0.0</td><td>0.0</td></tr><tr><td>0.0</td><td>0.0</td><td>0.0</td><td>0.0</td><td>0.0</td><td>0.0</td><td>0.0</td><td>0.0</td><td>0.0</td><td>0.0</td></tr><tr><td>0.0</td><td>0.0</td><td>0.0</td><td>0.0</td><td>0.0</td><td>0.0</td><td>0.0</td><td>0.0</td><td>0.0</td><td>0.0</td></tr><tr><td>0.0</td><td>0.0</td><td>0.0</td><td>0.0</td><td>0.0</td><td>0.0</td><td>0.0</td><td>0.0</td><td>0.0</td><td>0.0</td></tr><tr><td>&hellip;</td><td>&hellip;</td><td>&hellip;</td><td>&hellip;</td><td>&hellip;</td><td>&hellip;</td><td>&hellip;</td><td>&hellip;</td><td>&hellip;</td><td>&hellip;</td></tr><tr><td>0.0</td><td>0.0</td><td>0.0</td><td>0.0</td><td>0.0</td><td>0.0</td><td>0.0</td><td>0.0</td><td>0.0</td><td>0.0</td></tr><tr><td>0.0</td><td>0.0</td><td>0.0</td><td>0.0</td><td>0.0</td><td>0.0</td><td>0.0</td><td>0.0</td><td>0.0</td><td>0.0</td></tr><tr><td>0.0</td><td>0.0</td><td>0.0</td><td>0.0</td><td>0.0</td><td>0.0</td><td>0.0</td><td>0.0</td><td>0.0</td><td>0.0</td></tr><tr><td>0.0</td><td>0.0</td><td>0.0</td><td>0.0</td><td>0.0</td><td>0.0</td><td>0.0</td><td>0.0</td><td>0.0</td><td>0.0</td></tr><tr><td>0.0</td><td>0.0</td><td>0.0</td><td>0.0</td><td>0.0</td><td>0.0</td><td>0.0</td><td>0.0</td><td>0.0</td><td>0.0</td></tr></tbody></table></div>"
      ],
      "text/plain": [
       "shape: (16_680, 10)\n",
       "┌───────────┬────────┬────────┬──────┬───┬───────┬───────┬────────┬───────┐\n",
       "│ MTRNR2L12 ┆ MT-ND5 ┆ MT-ND2 ┆ HBA1 ┆ … ┆ RPL30 ┆ RPL34 ┆ TMSB4X ┆ NEAT1 │\n",
       "│ ---       ┆ ---    ┆ ---    ┆ ---  ┆   ┆ ---   ┆ ---   ┆ ---    ┆ ---   │\n",
       "│ f32       ┆ f32    ┆ f32    ┆ f32  ┆   ┆ f32   ┆ f32   ┆ f32    ┆ f32   │\n",
       "╞═══════════╪════════╪════════╪══════╪═══╪═══════╪═══════╪════════╪═══════╡\n",
       "│ 0.0       ┆ 0.0    ┆ 0.0    ┆ 0.0  ┆ … ┆ 0.0   ┆ 0.0   ┆ 0.0    ┆ 0.0   │\n",
       "│ 0.0       ┆ 0.0    ┆ 0.0    ┆ 0.0  ┆ … ┆ 0.0   ┆ 0.0   ┆ 0.0    ┆ 0.0   │\n",
       "│ 0.0       ┆ 0.0    ┆ 0.0    ┆ 0.0  ┆ … ┆ 0.0   ┆ 0.0   ┆ 0.0    ┆ 0.0   │\n",
       "│ 0.0       ┆ 0.0    ┆ 0.0    ┆ 0.0  ┆ … ┆ 0.0   ┆ 0.0   ┆ 0.0    ┆ 0.0   │\n",
       "│ 0.0       ┆ 0.0    ┆ 0.0    ┆ 0.0  ┆ … ┆ 0.0   ┆ 0.0   ┆ 0.0    ┆ 0.0   │\n",
       "│ …         ┆ …      ┆ …      ┆ …    ┆ … ┆ …     ┆ …     ┆ …      ┆ …     │\n",
       "│ 0.0       ┆ 0.0    ┆ 0.0    ┆ 0.0  ┆ … ┆ 0.0   ┆ 0.0   ┆ 0.0    ┆ 0.0   │\n",
       "│ 0.0       ┆ 0.0    ┆ 0.0    ┆ 0.0  ┆ … ┆ 0.0   ┆ 0.0   ┆ 0.0    ┆ 0.0   │\n",
       "│ 0.0       ┆ 0.0    ┆ 0.0    ┆ 0.0  ┆ … ┆ 0.0   ┆ 0.0   ┆ 0.0    ┆ 0.0   │\n",
       "│ 0.0       ┆ 0.0    ┆ 0.0    ┆ 0.0  ┆ … ┆ 0.0   ┆ 0.0   ┆ 0.0    ┆ 0.0   │\n",
       "│ 0.0       ┆ 0.0    ┆ 0.0    ┆ 0.0  ┆ … ┆ 0.0   ┆ 0.0   ┆ 0.0    ┆ 0.0   │\n",
       "└───────────┴────────┴────────┴──────┴───┴───────┴───────┴────────┴───────┘"
      ]
     },
     "execution_count": 170,
     "metadata": {},
     "output_type": "execute_result"
    }
   ],
   "source": [
    "df"
   ]
  },
  {
   "cell_type": "code",
   "execution_count": 175,
   "metadata": {},
   "outputs": [
    {
     "data": {
      "text/html": [
       "<div><style>\n",
       ".dataframe > thead > tr,\n",
       ".dataframe > tbody > tr {\n",
       "  text-align: right;\n",
       "  white-space: pre-wrap;\n",
       "}\n",
       "</style>\n",
       "<small>shape: (1, 10)</small><table border=\"1\" class=\"dataframe\"><thead><tr><th>MTRNR2L12</th><th>MT-ND5</th><th>MT-ND2</th><th>HBA1</th><th>RPS29</th><th>RPL32</th><th>RPL30</th><th>RPL34</th><th>TMSB4X</th><th>NEAT1</th></tr><tr><td>f32</td><td>f32</td><td>f32</td><td>f32</td><td>f32</td><td>f32</td><td>f32</td><td>f32</td><td>f32</td><td>f32</td></tr></thead><tbody><tr><td>1.0</td><td>0.0</td><td>0.0</td><td>40.0</td><td>3.0</td><td>0.0</td><td>160.0</td><td>7.0</td><td>4.0</td><td>0.0</td></tr></tbody></table></div>"
      ],
      "text/plain": [
       "shape: (1, 10)\n",
       "┌───────────┬────────┬────────┬──────┬───┬───────┬───────┬────────┬───────┐\n",
       "│ MTRNR2L12 ┆ MT-ND5 ┆ MT-ND2 ┆ HBA1 ┆ … ┆ RPL30 ┆ RPL34 ┆ TMSB4X ┆ NEAT1 │\n",
       "│ ---       ┆ ---    ┆ ---    ┆ ---  ┆   ┆ ---   ┆ ---   ┆ ---    ┆ ---   │\n",
       "│ f32       ┆ f32    ┆ f32    ┆ f32  ┆   ┆ f32   ┆ f32   ┆ f32    ┆ f32   │\n",
       "╞═══════════╪════════╪════════╪══════╪═══╪═══════╪═══════╪════════╪═══════╡\n",
       "│ 1.0       ┆ 0.0    ┆ 0.0    ┆ 40.0 ┆ … ┆ 160.0 ┆ 7.0   ┆ 4.0    ┆ 0.0   │\n",
       "└───────────┴────────┴────────┴──────┴───┴───────┴───────┴────────┴───────┘"
      ]
     },
     "execution_count": 175,
     "metadata": {},
     "output_type": "execute_result"
    }
   ],
   "source": [
    "df = pl.from_numpy(matrix[:, gene_indexes], schema=list(keys))\n",
    "df = df.select(pl.all().sum())\n",
    "df"
   ]
  },
  {
   "cell_type": "code",
   "execution_count": 145,
   "metadata": {},
   "outputs": [
    {
     "data": {
      "text/html": [
       "<div><style>\n",
       ".dataframe > thead > tr,\n",
       ".dataframe > tbody > tr {\n",
       "  text-align: right;\n",
       "  white-space: pre-wrap;\n",
       "}\n",
       "</style>\n",
       "<small>shape: (16_680, 11)</small><table border=\"1\" class=\"dataframe\"><thead><tr><th>AL390719.2</th><th>C1QTNF12</th><th>AL162741.1</th><th>LINC01786</th><th>AL391244.2</th><th>TMEM52</th><th>AL589739.1</th><th>PLCH2</th><th>AL513320.1</th><th>CHD5</th><th>group</th></tr><tr><td>f32</td><td>f32</td><td>f32</td><td>f32</td><td>f32</td><td>f32</td><td>f32</td><td>f32</td><td>f32</td><td>f32</td><td>cat</td></tr></thead><tbody><tr><td>0.0</td><td>0.0</td><td>0.0</td><td>0.0</td><td>0.0</td><td>0.0</td><td>0.0</td><td>0.0</td><td>0.0</td><td>0.0</td><td>&quot;s1d1&quot;</td></tr><tr><td>0.0</td><td>0.0</td><td>0.0</td><td>0.0</td><td>0.0</td><td>0.0</td><td>0.0</td><td>0.0</td><td>0.0</td><td>0.0</td><td>&quot;s1d1&quot;</td></tr><tr><td>0.0</td><td>0.0</td><td>0.0</td><td>0.0</td><td>0.0</td><td>0.0</td><td>0.0</td><td>0.0</td><td>0.0</td><td>0.0</td><td>&quot;s1d1&quot;</td></tr><tr><td>0.0</td><td>0.0</td><td>0.0</td><td>0.0</td><td>0.0</td><td>0.0</td><td>0.0</td><td>0.0</td><td>0.0</td><td>0.0</td><td>&quot;s1d1&quot;</td></tr><tr><td>0.0</td><td>0.0</td><td>0.0</td><td>0.0</td><td>0.0</td><td>0.0</td><td>0.0</td><td>0.0</td><td>0.0</td><td>0.0</td><td>&quot;s1d1&quot;</td></tr><tr><td>&hellip;</td><td>&hellip;</td><td>&hellip;</td><td>&hellip;</td><td>&hellip;</td><td>&hellip;</td><td>&hellip;</td><td>&hellip;</td><td>&hellip;</td><td>&hellip;</td><td>&hellip;</td></tr><tr><td>0.0</td><td>0.0</td><td>0.0</td><td>0.0</td><td>0.0</td><td>0.0</td><td>0.0</td><td>0.0</td><td>0.0</td><td>0.0</td><td>&quot;s1d3&quot;</td></tr><tr><td>0.0</td><td>0.0</td><td>0.0</td><td>0.0</td><td>0.0</td><td>0.0</td><td>0.0</td><td>0.0</td><td>0.0</td><td>0.0</td><td>&quot;s1d3&quot;</td></tr><tr><td>0.0</td><td>0.0</td><td>0.0</td><td>0.0</td><td>0.0</td><td>0.0</td><td>0.0</td><td>0.0</td><td>0.0</td><td>0.0</td><td>&quot;s1d3&quot;</td></tr><tr><td>0.0</td><td>0.0</td><td>0.0</td><td>0.0</td><td>0.0</td><td>0.0</td><td>0.0</td><td>0.0</td><td>0.0</td><td>0.0</td><td>&quot;s1d3&quot;</td></tr><tr><td>0.0</td><td>0.0</td><td>0.0</td><td>0.0</td><td>0.0</td><td>0.0</td><td>0.0</td><td>0.0</td><td>0.0</td><td>0.0</td><td>&quot;s1d3&quot;</td></tr></tbody></table></div>"
      ],
      "text/plain": [
       "shape: (16_680, 11)\n",
       "┌────────────┬──────────┬────────────┬───────────┬───┬───────┬────────────┬──────┬───────┐\n",
       "│ AL390719.2 ┆ C1QTNF12 ┆ AL162741.1 ┆ LINC01786 ┆ … ┆ PLCH2 ┆ AL513320.1 ┆ CHD5 ┆ group │\n",
       "│ ---        ┆ ---      ┆ ---        ┆ ---       ┆   ┆ ---   ┆ ---        ┆ ---  ┆ ---   │\n",
       "│ f32        ┆ f32      ┆ f32        ┆ f32       ┆   ┆ f32   ┆ f32        ┆ f32  ┆ cat   │\n",
       "╞════════════╪══════════╪════════════╪═══════════╪═══╪═══════╪════════════╪══════╪═══════╡\n",
       "│ 0.0        ┆ 0.0      ┆ 0.0        ┆ 0.0       ┆ … ┆ 0.0   ┆ 0.0        ┆ 0.0  ┆ s1d1  │\n",
       "│ 0.0        ┆ 0.0      ┆ 0.0        ┆ 0.0       ┆ … ┆ 0.0   ┆ 0.0        ┆ 0.0  ┆ s1d1  │\n",
       "│ 0.0        ┆ 0.0      ┆ 0.0        ┆ 0.0       ┆ … ┆ 0.0   ┆ 0.0        ┆ 0.0  ┆ s1d1  │\n",
       "│ 0.0        ┆ 0.0      ┆ 0.0        ┆ 0.0       ┆ … ┆ 0.0   ┆ 0.0        ┆ 0.0  ┆ s1d1  │\n",
       "│ 0.0        ┆ 0.0      ┆ 0.0        ┆ 0.0       ┆ … ┆ 0.0   ┆ 0.0        ┆ 0.0  ┆ s1d1  │\n",
       "│ …          ┆ …        ┆ …          ┆ …         ┆ … ┆ …     ┆ …          ┆ …    ┆ …     │\n",
       "│ 0.0        ┆ 0.0      ┆ 0.0        ┆ 0.0       ┆ … ┆ 0.0   ┆ 0.0        ┆ 0.0  ┆ s1d3  │\n",
       "│ 0.0        ┆ 0.0      ┆ 0.0        ┆ 0.0       ┆ … ┆ 0.0   ┆ 0.0        ┆ 0.0  ┆ s1d3  │\n",
       "│ 0.0        ┆ 0.0      ┆ 0.0        ┆ 0.0       ┆ … ┆ 0.0   ┆ 0.0        ┆ 0.0  ┆ s1d3  │\n",
       "│ 0.0        ┆ 0.0      ┆ 0.0        ┆ 0.0       ┆ … ┆ 0.0   ┆ 0.0        ┆ 0.0  ┆ s1d3  │\n",
       "│ 0.0        ┆ 0.0      ┆ 0.0        ┆ 0.0       ┆ … ┆ 0.0   ┆ 0.0        ┆ 0.0  ┆ s1d3  │\n",
       "└────────────┴──────────┴────────────┴───────────┴───┴───────┴────────────┴──────┴───────┘"
      ]
     },
     "execution_count": 145,
     "metadata": {},
     "output_type": "execute_result"
    }
   ],
   "source": [
    "df = df.with_columns(\n",
    "    pl.Series(\"group\", data.obs[\"sample\"]),\n",
    ")\n",
    "df"
   ]
  },
  {
   "cell_type": "code",
   "execution_count": 147,
   "metadata": {},
   "outputs": [
    {
     "data": {
      "text/plain": [
       "Schema([('AL390719.2', Float32),\n",
       "        ('C1QTNF12', Float32),\n",
       "        ('AL162741.1', Float32),\n",
       "        ('LINC01786', Float32),\n",
       "        ('AL391244.2', Float32),\n",
       "        ('TMEM52', Float32),\n",
       "        ('AL589739.1', Float32),\n",
       "        ('PLCH2', Float32),\n",
       "        ('AL513320.1', Float32),\n",
       "        ('CHD5', Float32),\n",
       "        ('group', Categorical(ordering='physical'))])"
      ]
     },
     "execution_count": 147,
     "metadata": {},
     "output_type": "execute_result"
    }
   ],
   "source": [
    "df.schema"
   ]
  },
  {
   "cell_type": "code",
   "execution_count": 146,
   "metadata": {},
   "outputs": [
    {
     "name": "stderr",
     "output_type": "stream",
     "text": [
      "C:\\Users\\zafi_\\AppData\\Local\\Temp\\ipykernel_7672\\2622976101.py:1: DeprecationWarning: `GroupBy.count` is deprecated. It has been renamed to `len`.\n",
      "  df.group_by(\"group\").count()\n"
     ]
    },
    {
     "data": {
      "text/html": [
       "<div><style>\n",
       ".dataframe > thead > tr,\n",
       ".dataframe > tbody > tr {\n",
       "  text-align: right;\n",
       "  white-space: pre-wrap;\n",
       "}\n",
       "</style>\n",
       "<small>shape: (2, 2)</small><table border=\"1\" class=\"dataframe\"><thead><tr><th>group</th><th>count</th></tr><tr><td>cat</td><td>u32</td></tr></thead><tbody><tr><td>&quot;s1d1&quot;</td><td>8475</td></tr><tr><td>&quot;s1d3&quot;</td><td>8205</td></tr></tbody></table></div>"
      ],
      "text/plain": [
       "shape: (2, 2)\n",
       "┌───────┬───────┐\n",
       "│ group ┆ count │\n",
       "│ ---   ┆ ---   │\n",
       "│ cat   ┆ u32   │\n",
       "╞═══════╪═══════╡\n",
       "│ s1d1  ┆ 8475  │\n",
       "│ s1d3  ┆ 8205  │\n",
       "└───────┴───────┘"
      ]
     },
     "execution_count": 146,
     "metadata": {},
     "output_type": "execute_result"
    }
   ],
   "source": [
    "df.group_by(\"group\").count()"
   ]
  },
  {
   "cell_type": "code",
   "execution_count": 157,
   "metadata": {},
   "outputs": [
    {
     "data": {
      "text/html": [
       "<div><style>\n",
       ".dataframe > thead > tr,\n",
       ".dataframe > tbody > tr {\n",
       "  text-align: right;\n",
       "  white-space: pre-wrap;\n",
       "}\n",
       "</style>\n",
       "<small>shape: (2, 31)</small><table border=\"1\" class=\"dataframe\"><thead><tr><th>group</th><th>AL390719.2_sum</th><th>C1QTNF12_sum</th><th>AL162741.1_sum</th><th>LINC01786_sum</th><th>AL391244.2_sum</th><th>TMEM52_sum</th><th>AL589739.1_sum</th><th>PLCH2_sum</th><th>AL513320.1_sum</th><th>CHD5_sum</th><th>AL390719.2_mean</th><th>C1QTNF12_mean</th><th>AL162741.1_mean</th><th>LINC01786_mean</th><th>AL391244.2_mean</th><th>TMEM52_mean</th><th>AL589739.1_mean</th><th>PLCH2_mean</th><th>AL513320.1_mean</th><th>CHD5_mean</th><th>AL390719.2_count</th><th>C1QTNF12_count</th><th>AL162741.1_count</th><th>LINC01786_count</th><th>AL391244.2_count</th><th>TMEM52_count</th><th>AL589739.1_count</th><th>PLCH2_count</th><th>AL513320.1_count</th><th>CHD5_count</th></tr><tr><td>cat</td><td>f32</td><td>f32</td><td>f32</td><td>f32</td><td>f32</td><td>f32</td><td>f32</td><td>f32</td><td>f32</td><td>f32</td><td>f32</td><td>f32</td><td>f32</td><td>f32</td><td>f32</td><td>f32</td><td>f32</td><td>f32</td><td>f32</td><td>f32</td><td>u32</td><td>u32</td><td>u32</td><td>u32</td><td>u32</td><td>u32</td><td>u32</td><td>u32</td><td>u32</td><td>u32</td></tr></thead><tbody><tr><td>&quot;s1d1&quot;</td><td>1.0</td><td>0.0</td><td>0.0</td><td>25.0</td><td>2.0</td><td>0.0</td><td>95.0</td><td>2.0</td><td>1.0</td><td>0.0</td><td>0.000118</td><td>0.0</td><td>0.0</td><td>0.00295</td><td>0.000236</td><td>0.0</td><td>0.011209</td><td>0.000236</td><td>0.000118</td><td>0.0</td><td>0</td><td>0</td><td>0</td><td>0</td><td>0</td><td>0</td><td>2</td><td>0</td><td>0</td><td>0</td></tr><tr><td>&quot;s1d3&quot;</td><td>0.0</td><td>0.0</td><td>0.0</td><td>15.0</td><td>1.0</td><td>0.0</td><td>65.0</td><td>5.0</td><td>3.0</td><td>0.0</td><td>0.0</td><td>0.0</td><td>0.0</td><td>0.001828</td><td>0.000122</td><td>0.0</td><td>0.007922</td><td>0.000609</td><td>0.000366</td><td>0.0</td><td>0</td><td>0</td><td>0</td><td>0</td><td>0</td><td>0</td><td>4</td><td>0</td><td>1</td><td>0</td></tr></tbody></table></div>"
      ],
      "text/plain": [
       "shape: (2, 31)\n",
       "┌───────┬────────────┬────────────┬────────────┬───┬───────────┬───────────┬───────────┬───────────┐\n",
       "│ group ┆ AL390719.2 ┆ C1QTNF12_s ┆ AL162741.1 ┆ … ┆ AL589739. ┆ PLCH2_cou ┆ AL513320. ┆ CHD5_coun │\n",
       "│ ---   ┆ _sum       ┆ um         ┆ _sum       ┆   ┆ 1_count   ┆ nt        ┆ 1_count   ┆ t         │\n",
       "│ cat   ┆ ---        ┆ ---        ┆ ---        ┆   ┆ ---       ┆ ---       ┆ ---       ┆ ---       │\n",
       "│       ┆ f32        ┆ f32        ┆ f32        ┆   ┆ u32       ┆ u32       ┆ u32       ┆ u32       │\n",
       "╞═══════╪════════════╪════════════╪════════════╪═══╪═══════════╪═══════════╪═══════════╪═══════════╡\n",
       "│ s1d1  ┆ 1.0        ┆ 0.0        ┆ 0.0        ┆ … ┆ 2         ┆ 0         ┆ 0         ┆ 0         │\n",
       "│ s1d3  ┆ 0.0        ┆ 0.0        ┆ 0.0        ┆ … ┆ 4         ┆ 0         ┆ 1         ┆ 0         │\n",
       "└───────┴────────────┴────────────┴────────────┴───┴───────────┴───────────┴───────────┴───────────┘"
      ]
     },
     "execution_count": 157,
     "metadata": {},
     "output_type": "execute_result"
    }
   ],
   "source": [
    "df_agg = df.group_by(\"group\").agg(\n",
    "    [pl.col(col).sum().alias(f\"{col}_sum\") for col in df.columns if col != \"group\"]\n",
    "    + [pl.col(col).mean().alias(f\"{col}_mean\") for col in df.columns if col != \"group\"]\n",
    "    + [pl.col(col).filter(pl.col(col)>1).count().alias(f\"{col}_count\") for col in df.columns if col != \"group\"]\n",
    ")\n",
    "df_agg"
   ]
  }
 ],
 "metadata": {
  "kernelspec": {
   "display_name": ".venv",
   "language": "python",
   "name": "python3"
  },
  "language_info": {
   "codemirror_mode": {
    "name": "ipython",
    "version": 3
   },
   "file_extension": ".py",
   "mimetype": "text/x-python",
   "name": "python",
   "nbconvert_exporter": "python",
   "pygments_lexer": "ipython3",
   "version": "3.12.8"
  }
 },
 "nbformat": 4,
 "nbformat_minor": 2
}
