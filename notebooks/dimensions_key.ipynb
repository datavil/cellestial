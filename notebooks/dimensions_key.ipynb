{
 "cells": [
  {
   "cell_type": "code",
   "execution_count": 58,
   "metadata": {},
   "outputs": [],
   "source": [
    "import scanpy as sc\n",
    "from anndata import AnnData\n",
    "import polars as pl\n",
    "data = sc.read(\"data/pbmc3k_pped.h5ad\")\n"
   ]
  },
  {
   "cell_type": "code",
   "execution_count": 59,
   "metadata": {},
   "outputs": [
    {
     "data": {
      "text/plain": [
       "KeysView(AxisArrays with keys: X_pca, X_tsne, X_umap)"
      ]
     },
     "execution_count": 59,
     "metadata": {},
     "output_type": "execute_result"
    }
   ],
   "source": [
    "data.obsm.keys()"
   ]
  },
  {
   "cell_type": "code",
   "execution_count": 60,
   "metadata": {},
   "outputs": [],
   "source": [
    "def _decide_dimensions_key(data: AnnData, dimensions: str) -> str:\n",
    "    \"\"\"Decide on which key to use for the dimensions.\"\"\"\n",
    "    if isinstance(data, AnnData):\n",
    "        # get every key that contains the name of the dimensions\n",
    "        keys_list = [key for key in data.obsm if dimensions in key.lower()]\n",
    "        if len(keys_list) == 0:\n",
    "            msg = f\"dimensions '{dimensions}' not found in the data\"\n",
    "            raise KeyError(msg)\n",
    "        elif len(keys_list) == 1:\n",
    "            dimensions_key = keys_list[0]\n",
    "        else:  # multiple keys found\n",
    "            # shorter keys have precedence\n",
    "            max_len = max(len(key) for key in keys_list)\n",
    "            min_len = min(len(key) for key in keys_list)\n",
    "            # 2d have precedence (over 3d etc.)\n",
    "            has_2d = [key for key in keys_list if \"2d\" in key.lower()]\n",
    "            # resolve the keys\n",
    "            if max_len > min_len:\n",
    "                dimensions_key = min(keys_list, key=len)\n",
    "            elif len(has_2d) > 0:\n",
    "                dimensions_key = has_2d[0]\n",
    "            else:\n",
    "                dimensions_key = keys_list[0]\n",
    "\n",
    "    return dimensions_key"
   ]
  },
  {
   "cell_type": "code",
   "execution_count": 61,
   "metadata": {},
   "outputs": [
    {
     "data": {
      "text/plain": [
       "'X_umap'"
      ]
     },
     "execution_count": 61,
     "metadata": {},
     "output_type": "execute_result"
    }
   ],
   "source": [
    "_decide_dimensions_key(data=data, dimensions=\"umap\")"
   ]
  },
  {
   "cell_type": "code",
   "execution_count": 62,
   "metadata": {},
   "outputs": [],
   "source": [
    "keys_list = [\"X_umapa\", \"X_umap2d\", \"X_umap3d\"]\n",
    "dimensions = \"umap\""
   ]
  },
  {
   "cell_type": "code",
   "execution_count": 63,
   "metadata": {},
   "outputs": [],
   "source": [
    "if len(keys_list) == 0:\n",
    "    msg = f\"dimensions '{dimensions}' not found in the data\"\n",
    "    raise KeyError(msg)\n",
    "elif len(keys_list) == 1:\n",
    "    dimensions_key = keys_list[0]\n",
    "else:  # multiple keys found\n",
    "    # shorter keys have precedence\n",
    "    max_len = max(len(key) for key in keys_list)\n",
    "    min_len = min(len(key) for key in keys_list)\n",
    "    # 2d have precedence (over 3d etc.)\n",
    "    has_2d = [key for key in keys_list if \"2d\" in key.lower()]\n",
    "    # resolve the keys\n",
    "    if max_len > min_len:\n",
    "        dimensions_key = min(keys_list, key=len)\n",
    "    elif len(has_2d) > 0:\n",
    "        dimensions_key = has_2d[0]\n",
    "    else:\n",
    "        dimensions_key = keys_list[0]"
   ]
  },
  {
   "cell_type": "code",
   "execution_count": 64,
   "metadata": {},
   "outputs": [
    {
     "data": {
      "text/plain": [
       "'X_umapa'"
      ]
     },
     "execution_count": 64,
     "metadata": {},
     "output_type": "execute_result"
    }
   ],
   "source": [
    "dimensions_key"
   ]
  },
  {
   "cell_type": "code",
   "execution_count": 66,
   "metadata": {},
   "outputs": [
    {
     "data": {
      "text/html": [
       "<div><style>\n",
       ".dataframe > thead > tr,\n",
       ".dataframe > tbody > tr {\n",
       "  text-align: right;\n",
       "  white-space: pre-wrap;\n",
       "}\n",
       "</style>\n",
       "<small>shape: (16_680, 2)</small><table border=\"1\" class=\"dataframe\"><thead><tr><th>umap1</th><th>umap2</th></tr><tr><td>f32</td><td>f32</td></tr></thead><tbody><tr><td>16.291706</td><td>7.037356</td></tr><tr><td>4.026419</td><td>3.467973</td></tr><tr><td>7.226518</td><td>17.208639</td></tr><tr><td>2.384201</td><td>-2.120665</td></tr><tr><td>8.450775</td><td>5.837933</td></tr><tr><td>&hellip;</td><td>&hellip;</td></tr><tr><td>8.15538</td><td>5.079872</td></tr><tr><td>6.177976</td><td>0.910435</td></tr><tr><td>2.751972</td><td>1.829315</td></tr><tr><td>12.900912</td><td>2.655838</td></tr><tr><td>17.749311</td><td>8.789654</td></tr></tbody></table></div>"
      ],
      "text/plain": [
       "shape: (16_680, 2)\n",
       "┌───────────┬───────────┐\n",
       "│ umap1     ┆ umap2     │\n",
       "│ ---       ┆ ---       │\n",
       "│ f32       ┆ f32       │\n",
       "╞═══════════╪═══════════╡\n",
       "│ 16.291706 ┆ 7.037356  │\n",
       "│ 4.026419  ┆ 3.467973  │\n",
       "│ 7.226518  ┆ 17.208639 │\n",
       "│ 2.384201  ┆ -2.120665 │\n",
       "│ 8.450775  ┆ 5.837933  │\n",
       "│ …         ┆ …         │\n",
       "│ 8.15538   ┆ 5.079872  │\n",
       "│ 6.177976  ┆ 0.910435  │\n",
       "│ 2.751972  ┆ 1.829315  │\n",
       "│ 12.900912 ┆ 2.655838  │\n",
       "│ 17.749311 ┆ 8.789654  │\n",
       "└───────────┴───────────┘"
      ]
     },
     "execution_count": 66,
     "metadata": {},
     "output_type": "execute_result"
    }
   ],
   "source": [
    "pl.DataFrame().with_columns(pl.from_numpy(data.obsm[\"X_umap\"][:, (0, 1)], schema=[\"umap1\", \"umap2\"]))"
   ]
  },
  {
   "cell_type": "code",
   "execution_count": null,
   "metadata": {},
   "outputs": [],
   "source": []
  }
 ],
 "metadata": {
  "kernelspec": {
   "display_name": "cellestial-QESvkR8L-py3.12",
   "language": "python",
   "name": "python3"
  },
  "language_info": {
   "codemirror_mode": {
    "name": "ipython",
    "version": 3
   },
   "file_extension": ".py",
   "mimetype": "text/x-python",
   "name": "python",
   "nbconvert_exporter": "python",
   "pygments_lexer": "ipython3",
   "version": "3.12.8"
  }
 },
 "nbformat": 4,
 "nbformat_minor": 2
}
